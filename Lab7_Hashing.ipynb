{
  "nbformat": 4,
  "nbformat_minor": 0,
  "metadata": {
    "colab": {
      "provenance": [],
      "include_colab_link": true
    },
    "kernelspec": {
      "name": "python3",
      "display_name": "Python 3"
    },
    "language_info": {
      "name": "python"
    }
  },
  "cells": [
    {
      "cell_type": "markdown",
      "metadata": {
        "id": "view-in-github",
        "colab_type": "text"
      },
      "source": [
        "<a href=\"https://colab.research.google.com/github/KsKarim7/DS-with-Python/blob/main/Lab7_Hashing.ipynb\" target=\"_parent\"><img src=\"https://colab.research.google.com/assets/colab-badge.svg\" alt=\"Open In Colab\"/></a>"
      ]
    },
    {
      "cell_type": "markdown",
      "source": [
        "question link :https://drive.google.com/drive/folders/1GDXf4RxX2cxnCwnorPhtXEXv0q1vpYv0\n"
      ],
      "metadata": {
        "id": "OOokuhEwIZPF"
      }
    },
    {
      "cell_type": "code",
      "execution_count": null,
      "metadata": {
        "colab": {
          "base_uri": "https://localhost:8080/"
        },
        "id": "CvHWU9VwU1DB",
        "outputId": "58bc55ad-1b3a-4bcb-b9da-45eb1c87c5d3"
      },
      "outputs": [
        {
          "output_type": "stream",
          "name": "stdout",
          "text": [
            "Requirement already satisfied: fhm-unittest in /usr/local/lib/python3.10/dist-packages (1.0.1)\n",
            "Requirement already satisfied: fuzzywuzzy in /usr/local/lib/python3.10/dist-packages (0.18.0)\n"
          ]
        }
      ],
      "source": [
        "# You must run this cell to install depedency\n",
        "! pip3 install fhm-unittest\n",
        "! pip3 install fuzzywuzzy\n",
        "import fhm_unittest as unittest\n",
        "import numpy as np"
      ]
    },
    {
      "cell_type": "markdown",
      "source": [
        "Run this cell first"
      ],
      "metadata": {
        "id": "uuc9lAd6YgTI"
      }
    },
    {
      "cell_type": "code",
      "source": [
        "class Node:\n",
        "  def __init__(self, elem, next = None):\n",
        "    self.elem, self.next = elem, next\n",
        "\n",
        "def create_linked_list(arr):\n",
        "  head = Node(arr[0])\n",
        "  tail = head\n",
        "  for i in arr[1:]:\n",
        "    new_node = Node(i)\n",
        "    tail.next = new_node\n",
        "    tail = new_node\n",
        "  return head\n",
        "\n",
        "def count(head):\n",
        "  count = 0\n",
        "  while head != None:\n",
        "    count += 1\n",
        "    head = head.next\n",
        "  return count\n",
        "\n",
        "def print_linked_list(head):\n",
        "  while head != None:\n",
        "    print(head.elem, end = '-> ')\n",
        "    head = head.next\n",
        "  print('None')\n",
        "  print()"
      ],
      "metadata": {
        "id": "BQi67-3NU3GS"
      },
      "execution_count": null,
      "outputs": []
    },
    {
      "cell_type": "markdown",
      "source": [
        "#TASK 1\n",
        "> You can use Dictionary, Set and membership operator (in/not in) for this task. Membership Operator takes constant time in these unordered collections.\n",
        "\n",
        "\n",
        "\n",
        "However,\n",
        "\n",
        "\n",
        ">  ***DO NOT USE*** Membership Operator in List, String for this task.\n",
        "\n",
        "> You can traverse the array ***ONLY ONCE*** (i.e. no nested loop).\n",
        "\n",
        "\n",
        "\n"
      ],
      "metadata": {
        "id": "34hWSyDJYn25"
      }
    },
    {
      "cell_type": "code",
      "source": [
        "def nerdy_run(path,k):\n",
        "  count = {}\n",
        "  dupli = None\n",
        "  for i in range(len(path)):\n",
        "    if path[i] in count:\n",
        "      if i - count[path[i]] <= k:\n",
        "        dupli = path[i]\n",
        "        break\n",
        "    else:\n",
        "      count[path[i]] = i\n",
        "  return dupli"
      ],
      "metadata": {
        "id": "mi8D3lXRaEDL"
      },
      "execution_count": null,
      "outputs": []
    },
    {
      "cell_type": "code",
      "source": [
        "def main():\n",
        "\n",
        "  path = [6,7,8,9,5,9]\n",
        "  k = 3\n",
        "  result = nerdy_run(path,k)\n",
        "  unittest.output_test(result, 9)\n",
        "  print(f'Duplicate value within range {k} is: {result}') #Duplicate value within range 3 is: 9\n",
        "\n",
        "  print('===================================')\n",
        "  path = [6,7,8,9,5,6]\n",
        "  k = 4\n",
        "  result = nerdy_run(path,k)\n",
        "  unittest.output_test(result, None)\n",
        "  print(f'Duplicate value within range {k} is: {result}') #Duplicate value within range 4 is: None\n",
        "\n",
        "  print('===================================')\n",
        "  path = [0.21,1.21,4.67,0.21,0.45,1.9]\n",
        "  k = 7\n",
        "  result = nerdy_run(path,k)\n",
        "  unittest.output_test(result, 0.21)\n",
        "  print(f'Duplicate value within range {k} is: {result}') #Duplicate value within range 7 is: 0.21\n",
        "\n",
        "\n",
        "if __name__ == \"__main__\":\n",
        "  main()"
      ],
      "metadata": {
        "id": "eHa5uJahWA3o",
        "colab": {
          "base_uri": "https://localhost:8080/"
        },
        "outputId": "cbd1e92a-c870-493b-c700-1abc5b485580"
      },
      "execution_count": null,
      "outputs": [
        {
          "output_type": "stream",
          "name": "stdout",
          "text": [
            "Accepted\n",
            "Duplicate value within range 3 is: 9\n",
            "===================================\n",
            "Accepted\n",
            "Duplicate value within range 4 is: None\n",
            "===================================\n",
            "Accepted\n",
            "Duplicate value within range 7 is: 0.21\n"
          ]
        }
      ]
    },
    {
      "cell_type": "markdown",
      "source": [
        "#TASK 2\n",
        "Complete the following methods:\n",
        "\n",
        ">  __hash_function()\n",
        "\n",
        "> search_hashtable()\n",
        "\n",
        "\n",
        "\n"
      ],
      "metadata": {
        "id": "B92R0bs3X_kI"
      }
    },
    {
      "cell_type": "code",
      "source": [
        "class Node_pair:\n",
        "  def __init__(self, key, value, next = None):\n",
        "    self.key, self.value, self.next = key, value, next\n",
        "\n",
        "\n",
        "class Hashtable:\n",
        "  def __init__(self, size):\n",
        "    self.ht = [None]*size\n",
        "\n",
        "\n",
        "  def insert(self, s):\n",
        "    if self.search_hashtable(s) == 'Found':\n",
        "      print(s,'Already Inserted. Cannot reinsert.')\n",
        "      print('===============================')\n",
        "      return\n",
        "    hashed_index = self.__hash_function(s[0])\n",
        "    pair = Node_pair(s[0], s[1])\n",
        "    if self.ht[hashed_index] == None:\n",
        "      self.ht[hashed_index] = pair\n",
        "    else:\n",
        "      pair.next = self.ht[hashed_index]\n",
        "      self.ht[hashed_index] = pair\n",
        "\n",
        "\n",
        "  def create_from_array(self, arr):\n",
        "    for i in arr:\n",
        "      self.insert(i)\n",
        "\n",
        "  def print_hashtable(self):\n",
        "    idx = 0\n",
        "    for i in self.ht:\n",
        "      print(idx, ':', end = ' ')\n",
        "      head = i\n",
        "      while (head != None):\n",
        "        print(f'(key: {head.key}, value: {head.value})', end = '-->')\n",
        "        head = head.next\n",
        "      print('None')\n",
        "      print()\n",
        "      idx += 1\n",
        "\n",
        "\n",
        "  def __hash_function(self, s):\n",
        "    count = 0\n",
        "    if (len(s)%2 != 0):\n",
        "      s+='N'\n",
        "    for i in range(0, len(s), 2):\n",
        "      count += int(str(ord(s[i])) + str(ord(s[i+1])))\n",
        "    count = count % len(self.ht)\n",
        "    return count\n",
        "\n",
        "\n",
        "\n",
        "  def search_hashtable(self, tup):\n",
        "    hashed_index = self.__hash_function(tup[0])\n",
        "    head = self.ht[hashed_index]\n",
        "    while (head != None):\n",
        "      if (head.key == tup[0] and head.value == tup[1]):\n",
        "        return 'Found'\n",
        "      head = head.next\n",
        "    return 'Not Found'\n"
      ],
      "metadata": {
        "id": "1aobPPrAVXCB"
      },
      "execution_count": null,
      "outputs": []
    },
    {
      "cell_type": "code",
      "source": [
        "arr = [('Colt', 360), ('Cordelius', 730), ('Shelly', 300), ('Doug', 1200), ('Emz', 520), ('Bo', 580)]\n",
        "ht = Hashtable(5)\n",
        "ht.create_from_array(arr)\n",
        "ht.print_hashtable()\n",
        "\n",
        "print('======================')\n",
        "result = ht.search_hashtable(('Doug', 1200))\n",
        "unittest.output_test(result, 'Found')\n",
        "print(f'(Doug, 1200) {result}')\n",
        "\n",
        "print('======================')\n",
        "ht.insert(('Doug', 1200))\n",
        "ht.print_hashtable()\n",
        "\n",
        "print('======================')\n",
        "result = ht.search_hashtable(('Edgar', 320))\n",
        "unittest.output_test(result, 'Not Found')\n",
        "print(f'(Edgar, 320) {result}')\n",
        "\n",
        "print('======================')\n",
        "ht.insert(('Edgar', 320))\n",
        "ht.print_hashtable()\n",
        "\n",
        "print('======================')\n",
        "result = ht.search_hashtable(('Edgar', 320))\n",
        "unittest.output_test(result, 'Found')\n",
        "print(f'(Edgar, 320) {result}')"
      ],
      "metadata": {
        "colab": {
          "base_uri": "https://localhost:8080/"
        },
        "id": "dpDpMZSgV_XU",
        "outputId": "7a08fd65-799a-4b42-dd46-6644d031a6a3"
      },
      "execution_count": null,
      "outputs": [
        {
          "output_type": "stream",
          "name": "stdout",
          "text": [
            "0 : None\n",
            "\n",
            "1 : (key: Bo, value: 580)-->None\n",
            "\n",
            "2 : (key: Emz, value: 520)-->(key: Colt, value: 360)-->None\n",
            "\n",
            "3 : (key: Shelly, value: 300)-->None\n",
            "\n",
            "4 : (key: Doug, value: 1200)-->(key: Cordelius, value: 730)-->None\n",
            "\n",
            "======================\n",
            "Accepted\n",
            "(Doug, 1200) Found\n",
            "======================\n",
            "('Doug', 1200) Already Inserted. Cannot reinsert.\n",
            "===============================\n",
            "0 : None\n",
            "\n",
            "1 : (key: Bo, value: 580)-->None\n",
            "\n",
            "2 : (key: Emz, value: 520)-->(key: Colt, value: 360)-->None\n",
            "\n",
            "3 : (key: Shelly, value: 300)-->None\n",
            "\n",
            "4 : (key: Doug, value: 1200)-->(key: Cordelius, value: 730)-->None\n",
            "\n",
            "======================\n",
            "Accepted\n",
            "(Edgar, 320) Not Found\n",
            "======================\n",
            "0 : (key: Edgar, value: 320)-->None\n",
            "\n",
            "1 : (key: Bo, value: 580)-->None\n",
            "\n",
            "2 : (key: Emz, value: 520)-->(key: Colt, value: 360)-->None\n",
            "\n",
            "3 : (key: Shelly, value: 300)-->None\n",
            "\n",
            "4 : (key: Doug, value: 1200)-->(key: Cordelius, value: 730)-->None\n",
            "\n",
            "======================\n",
            "Accepted\n",
            "(Edgar, 320) Found\n"
          ]
        }
      ]
    },
    {
      "cell_type": "markdown",
      "source": [
        "#TASK 3\n",
        "Complete the following methods:\n",
        "\n",
        "\n",
        "\n",
        "> create_layered_hashtable()\n",
        "\n",
        "> search_element()"
      ],
      "metadata": {
        "id": "DzykBxGicdBw"
      }
    },
    {
      "cell_type": "code",
      "source": [
        "class Layered_Hashtable:\n",
        "  def __init__(self, express_array_size):\n",
        "    self.express_array = [None] * express_array_size\n",
        "\n",
        "  def print_express_lane(self):\n",
        "    for i in self.express_array:\n",
        "      print(i.elem, end = ' '*10)\n",
        "    print()\n",
        "\n",
        "  def print_layered_hashtable(self):\n",
        "    print('Express Lane is:')\n",
        "    self.print_express_lane()\n",
        "\n",
        "    for i in range (len(self.express_array)-1):\n",
        "      node = self.express_array[i]\n",
        "      next_node = self.express_array[i+1]\n",
        "      print(f'Normal Lane Nodes between Express Lane Node {node.elem} and Express Lane Node {next_node.elem} are: ')\n",
        "      while (node != next_node):\n",
        "        print(node.elem, end = '->')\n",
        "        node = node.next\n",
        "      print()\n",
        "\n",
        "    print(f'Normal Lane Nodes eding in the Express Lane Node: {node.elem}')\n",
        "\n",
        "  def create_layered_hashtable(self, linked_list_head):\n",
        "    current_node = linked_list_head\n",
        "    count1 = 0\n",
        "    express_index = 0\n",
        "    bucket_size = (count(linked_list_head) // len(self.express_array)) + 1\n",
        "    while (current_node != None):\n",
        "      if (count1 % bucket_size == 0):\n",
        "        self.express_array[express_index] = current_node\n",
        "        express_index += 1\n",
        "      current_node = current_node.next\n",
        "      count1 += 1\n",
        "\n",
        "  def search_element(self,k):\n",
        "    st = None\n",
        "    ed = None\n",
        "    for i in range(len(self.express_array)):\n",
        "      if (self.express_array[i].elem == k):\n",
        "        return 'Found'\n",
        "      elif (i == len(self.express_array)-1):\n",
        "        st = self.express_array[i]\n",
        "      elif (self.express_array[i].elem < k < self.express_array[i+1].elem):\n",
        "        st = self.express_array[i]\n",
        "        ed = self.express_array[i+1]\n",
        "        break\n",
        "\n",
        "    if (st == None):\n",
        "      return 'Not Found'\n",
        "\n",
        "    while (st != ed):\n",
        "      if (st.elem == k):\n",
        "        return 'Found'\n",
        "      st = st.next\n",
        "\n",
        "    return 'Not Found'"
      ],
      "metadata": {
        "id": "MkJtkO-ydCSw"
      },
      "execution_count": null,
      "outputs": []
    },
    {
      "cell_type": "code",
      "source": [
        "arr = [4,6,9,18,25,37,62,67,79,84]\n",
        "head = create_linked_list(arr)\n",
        "express_array_size = 4\n",
        "\n",
        "layered_ht = Layered_Hashtable(express_array_size)\n",
        "layered_ht.create_layered_hashtable(head)\n",
        "layered_ht.print_layered_hashtable()\n",
        "\n",
        "print('==========1===========')\n",
        "result = layered_ht.search_element(67)\n",
        "unittest.output_test(result, 'Found')\n",
        "print(f'67 {result}') #67 Found\n",
        "\n",
        "print('==========2===========')\n",
        "result = layered_ht.search_element(84)\n",
        "unittest.output_test(result, 'Found')\n",
        "print(f'84 {result}') #84 Found\n",
        "\n",
        "print('==========3===========')\n",
        "result = layered_ht.search_element(1)\n",
        "unittest.output_test(result, 'Not Found')\n",
        "print(f'1 {result}') #1 Not Found\n",
        "\n",
        "print('==========4===========')\n",
        "result = layered_ht.search_element(92)\n",
        "unittest.output_test(result, 'Not Found')\n",
        "print(f'92 {result}') #92 Not Found\n",
        "\n",
        "print('==========5===========')\n",
        "result = layered_ht.search_element(41)\n",
        "unittest.output_test(result, 'Not Found')\n",
        "print(f'41 {result}') #41 Not Found"
      ],
      "metadata": {
        "colab": {
          "base_uri": "https://localhost:8080/"
        },
        "id": "9lxnCzZ6fymw",
        "outputId": "d48f8354-2d55-4a3c-ee3a-c406f4d4eef7"
      },
      "execution_count": null,
      "outputs": [
        {
          "output_type": "stream",
          "name": "stdout",
          "text": [
            "Express Lane is:\n",
            "4          18          62          84          \n",
            "Normal Lane Nodes between Express Lane Node 4 and Express Lane Node 18 are: \n",
            "4->6->9->\n",
            "Normal Lane Nodes between Express Lane Node 18 and Express Lane Node 62 are: \n",
            "18->25->37->\n",
            "Normal Lane Nodes between Express Lane Node 62 and Express Lane Node 84 are: \n",
            "62->67->79->\n",
            "Normal Lane Nodes eding in the Express Lane Node: 84\n",
            "==========1===========\n",
            "Accepted\n",
            "67 Found\n",
            "==========2===========\n",
            "Accepted\n",
            "84 Found\n",
            "==========3===========\n",
            "Accepted\n",
            "1 Not Found\n",
            "==========4===========\n",
            "Accepted\n",
            "92 Not Found\n",
            "==========5===========\n",
            "Accepted\n",
            "41 Not Found\n"
          ]
        }
      ]
    },
    {
      "cell_type": "code",
      "source": [],
      "metadata": {
        "id": "mEVgVZfGf8tN"
      },
      "execution_count": null,
      "outputs": []
    }
  ]
}