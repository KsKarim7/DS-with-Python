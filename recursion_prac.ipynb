{
  "nbformat": 4,
  "nbformat_minor": 0,
  "metadata": {
    "colab": {
      "provenance": [],
      "authorship_tag": "ABX9TyOL7iIdKkFBxCPrBQGakmyD",
      "include_colab_link": true
    },
    "kernelspec": {
      "name": "python3",
      "display_name": "Python 3"
    },
    "language_info": {
      "name": "python"
    }
  },
  "cells": [
    {
      "cell_type": "markdown",
      "metadata": {
        "id": "view-in-github",
        "colab_type": "text"
      },
      "source": [
        "<a href=\"https://colab.research.google.com/github/KsKarim7/DS-with-Python/blob/main/recursion_prac.ipynb\" target=\"_parent\"><img src=\"https://colab.research.google.com/assets/colab-badge.svg\" alt=\"Open In Colab\"/></a>"
      ]
    },
    {
      "cell_type": "markdown",
      "source": [
        "question link: https://drive.google.com/file/d/1PJeB9_CesxWshOItu5erNZt6-DABwa68/view?usp=drive_link"
      ],
      "metadata": {
        "id": "A3xvcHj4sNaK"
      }
    },
    {
      "cell_type": "code",
      "execution_count": null,
      "metadata": {
        "colab": {
          "base_uri": "https://localhost:8080/"
        },
        "id": "aAtYPxtKrqb1",
        "outputId": "d13780e6-1f42-4235-cfee-aa602d47fc18"
      },
      "outputs": [
        {
          "output_type": "stream",
          "name": "stdout",
          "text": [
            "9\n"
          ]
        }
      ],
      "source": [
        "# Ans no.1\n",
        "def sumDigits(n):\n",
        "    if(n == 0):\n",
        "        return 0\n",
        "    return n%10 + sumDigits(n//10)\n",
        "\n",
        "print(sumDigits(126))"
      ]
    },
    {
      "cell_type": "code",
      "source": [
        "# Ans no.2\n",
        "def bunnyEars(n):\n",
        "    if(n == 0):\n",
        "        return 0\n",
        "    if(n%2==0):\n",
        "        return 3+bunnyEars(n-1)\n",
        "    else:\n",
        "        return 2+bunnyEars(n-1)\n",
        "\n",
        "print(bunnyEars(2))"
      ],
      "metadata": {
        "colab": {
          "base_uri": "https://localhost:8080/"
        },
        "id": "NpbalpdCRadN",
        "outputId": "fc8cf726-619e-4e12-8ec4-f0a4d39313a0"
      },
      "execution_count": null,
      "outputs": [
        {
          "output_type": "stream",
          "name": "stdout",
          "text": [
            "5\n"
          ]
        }
      ]
    },
    {
      "cell_type": "code",
      "source": [
        "# Ans no.3\n",
        "def count7(n):\n",
        "    if(n == 0):\n",
        "        return 0\n",
        "    if(n%10 == 7):\n",
        "        return 1+count7(n//10)\n",
        "    else:\n",
        "        return 0+count7(n//10)\n",
        "\n",
        "print(count7(int(input())))"
      ],
      "metadata": {
        "colab": {
          "base_uri": "https://localhost:8080/"
        },
        "id": "N5RstQZrZbAi",
        "outputId": "ba64bd27-8bce-4898-fa5f-aa422d365786"
      },
      "execution_count": null,
      "outputs": [
        {
          "output_type": "stream",
          "name": "stdout",
          "text": [
            "123\n",
            "0\n"
          ]
        }
      ]
    },
    {
      "cell_type": "code",
      "source": [
        "# Ans no.4\n",
        "def countX(s,l=0):\n",
        "    if(l == len(s)):\n",
        "        return 0\n",
        "    if(s[l] == 'x'):\n",
        "        return 1+countX(s,l+1)\n",
        "    else:\n",
        "        return 0+countX(s,l+1)\n",
        "print(countX(input()))"
      ],
      "metadata": {
        "colab": {
          "base_uri": "https://localhost:8080/"
        },
        "id": "awP5fGNeaP7a",
        "outputId": "641c033f-8e3e-4ed3-9954-2e8a6ce9d52d"
      },
      "execution_count": null,
      "outputs": [
        {
          "output_type": "stream",
          "name": "stdout",
          "text": [
            "xxxhixxx\n",
            "6\n"
          ]
        }
      ]
    },
    {
      "cell_type": "code",
      "source": [
        "# Ans no.5\n",
        "def changePi(s,l=0):\n",
        "    if(l == len(s)):\n",
        "        # if(len(s)%2==0):\n",
        "        #     return ''\n",
        "        # else:\n",
        "        #     return s[l]\n",
        "        return ' '\n",
        "    if(l != len(s)-1):\n",
        "        if(s[l] == 'p' and s[l+1]=='i'):\n",
        "            return '3.14'+changePi(s,l+2)\n",
        "    return s[l]+changePi(s,l+1)\n",
        "\n",
        "print(changePi(\"xpix\"))"
      ],
      "metadata": {
        "colab": {
          "base_uri": "https://localhost:8080/"
        },
        "id": "MwIstSXsdy8A",
        "outputId": "34b93789-d647-4e78-f261-34fb734e4e5c"
      },
      "execution_count": null,
      "outputs": [
        {
          "output_type": "stream",
          "name": "stdout",
          "text": [
            "x3.14x \n"
          ]
        }
      ]
    },
    {
      "cell_type": "code",
      "source": [
        "# repeat\n",
        "def countPi(stri):\n",
        "    if stri == \"\":\n",
        "        return \"\"\n",
        "\n",
        "    # n = stri[0]\n",
        "    if len(stri) > 1:\n",
        "        if stri[0] + stri[1] == \"pi\":\n",
        "            return \"3.14\" + countPi(stri[2:])\n",
        "\n",
        "    return stri[0] + countPi(stri[1:])\n",
        "\n",
        "\n",
        "print(countPi(\"xpix\"))\n",
        "print(countPi(\"pipi\"))\n",
        "print(countPi(\"pip\"))"
      ],
      "metadata": {
        "colab": {
          "base_uri": "https://localhost:8080/"
        },
        "id": "fQhDZafDk7mW",
        "outputId": "b21b1ac8-b000-4403-b54a-f085ef46c2bd"
      },
      "execution_count": 11,
      "outputs": [
        {
          "output_type": "stream",
          "name": "stdout",
          "text": [
            "x3.14x\n",
            "3.143.14\n",
            "3.14p\n"
          ]
        }
      ]
    },
    {
      "cell_type": "code",
      "source": [
        "# Ans no:6\n",
        "def array11(arr,idx):\n",
        "    if(idx > len(arr)-1):\n",
        "        return 0\n",
        "    if(arr[idx]==11):\n",
        "        return 1+array11(arr,idx+1)\n",
        "    else:\n",
        "        return 0+array11(arr,idx+1)\n",
        "\n",
        "\n",
        "\n",
        "print(array11([1,2,11],0))\n",
        "print(array11([11,11],0))\n",
        "print(array11([1,2,3,4],0))"
      ],
      "metadata": {
        "id": "ya_gvOtTmqYq",
        "colab": {
          "base_uri": "https://localhost:8080/"
        },
        "outputId": "d3dd2dcf-1998-486d-da49-96d8f298ee47"
      },
      "execution_count": 5,
      "outputs": [
        {
          "output_type": "stream",
          "name": "stdout",
          "text": [
            "1\n",
            "2\n",
            "0\n"
          ]
        }
      ]
    },
    {
      "cell_type": "code",
      "source": [
        "# Ans no:7\n",
        "def pairStar(strr,idx=0,idxx=1):\n",
        "    if(idx > len(strr)-2):\n",
        "        return strr[idx]\n",
        "    if(strr[idx] == strr[idxx]):\n",
        "        return strr[idx]+'*'+pairStar(strr,idx+1,idxx+1)\n",
        "    else:\n",
        "        return strr[idx]+pairStar(strr,idx+1,idxx+1)\n",
        "\n",
        "print(pairStar(input()))\n",
        "# print(inp)"
      ],
      "metadata": {
        "colab": {
          "base_uri": "https://localhost:8080/"
        },
        "id": "kQYFYpVa8FNm",
        "outputId": "afcba0e3-c101-430b-cd0d-6399ffbbe939"
      },
      "execution_count": 13,
      "outputs": [
        {
          "output_type": "stream",
          "name": "stdout",
          "text": [
            "aaaa\n",
            "a*a*a*a\n"
          ]
        }
      ]
    },
    {
      "cell_type": "code",
      "source": [
        "# Ans no:8\n",
        "def countAbc(s):\n",
        "    if (len(s) < 3):\n",
        "        return 0\n",
        "\n",
        "    if (s[:3] == \"abc\" or s[:3] == \"aba\"):\n",
        "        return 1 + countAbc(s[1:])\n",
        "    else:\n",
        "        # print(s[1:])\n",
        "        return countAbc(s[1:])\n",
        "\n",
        "\n",
        "\n",
        "print(countAbc(input()))\n"
      ],
      "metadata": {
        "colab": {
          "base_uri": "https://localhost:8080/"
        },
        "id": "7IcQ39bo-PWO",
        "outputId": "d301f78e-461f-4db8-b84c-dd18b7391ccb"
      },
      "execution_count": 3,
      "outputs": [
        {
          "output_type": "stream",
          "name": "stdout",
          "text": [
            "abaxxaba\n",
            "axxaba\n",
            "xxaba\n",
            "xaba\n",
            "aba\n",
            "2\n"
          ]
        }
      ]
    },
    {
      "cell_type": "code",
      "source": [
        "# Ans no:9\n",
        "def countHi2(s):\n",
        "    if(len(s)<2):\n",
        "        return 0\n",
        "    if(s[0] != 'x' and s[1:3] =='hi'):\n",
        "        return 1+countHi2(s[1:])\n",
        "    else: return countHi2(s[1:])\n",
        "\n",
        "print(countHi2(input()))"
      ],
      "metadata": {
        "colab": {
          "base_uri": "https://localhost:8080/"
        },
        "id": "bXwUKFSxArh-",
        "outputId": "f9c940fd-d6d4-4a06-c877-77646fd20a93"
      },
      "execution_count": 9,
      "outputs": [
        {
          "output_type": "stream",
          "name": "stdout",
          "text": [
            "xhixhi\n",
            "0\n"
          ]
        }
      ]
    },
    {
      "cell_type": "code",
      "source": [
        "# Ans no:10\n",
        "def strCount(gs,f):\n",
        "    if(len(gs)<len(f)):\n",
        "        return 0\n",
        "    if(gs[:len(f)] == f):\n",
        "        return 1+strCount(gs[1:],f)\n",
        "    else:\n",
        "        return strCount(gs[1:],f)\n",
        "\n",
        "print(strCount(\"catcowcat\",\"cow\"))"
      ],
      "metadata": {
        "colab": {
          "base_uri": "https://localhost:8080/"
        },
        "id": "rryxKitQE5S9",
        "outputId": "796467fd-8a6a-489e-ecc0-367ebf17c6af"
      },
      "execution_count": 12,
      "outputs": [
        {
          "output_type": "stream",
          "name": "stdout",
          "text": [
            "1\n"
          ]
        }
      ]
    }
  ]
}