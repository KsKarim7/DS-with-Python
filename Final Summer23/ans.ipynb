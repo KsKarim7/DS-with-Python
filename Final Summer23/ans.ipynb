{
 "cells": [
  {
   "cell_type": "code",
   "execution_count": null,
   "metadata": {},
   "outputs": [],
   "source": []
  },
  {
   "cell_type": "markdown",
   "metadata": {},
   "source": [
    "#Question: https://drive.google.com/file/d/1EmYZhHQPlU48neSKzElKbghTUskQBHkZ/view?usp=sharing"
   ]
  },
  {
   "cell_type": "code",
   "execution_count": null,
   "metadata": {},
   "outputs": [],
   "source": [
    "# <!-- Ans.3 -->\n",
    "class Node:\n",
    "  def __init__(self, key, value, next=None):\n",
    "    self.key, self.value, self.next = key, value, next\n",
    "\n",
    "def hash_func(key):\n",
    "  return (key**2 + 3 ) % 6\n",
    "\n",
    "hash_func(9)\n",
    "\n",
    "\n",
    "def remove(hashtable, key):\n",
    "  idx = hash_func(key)\n",
    "  head = hashtable[idx]\n",
    "  if(head.key == key):\n",
    "    head = head.next\n",
    "  temp = head\n",
    "  while(not temp):\n",
    "    if(temp.next.key == key):\n",
    "      temp.next = temp.next.next\n",
    "\n",
    "\n",
    "  hashtable[idx] = head"
   ]
  }
 ],
 "metadata": {
  "language_info": {
   "name": "python"
  }
 },
 "nbformat": 4,
 "nbformat_minor": 2
}
