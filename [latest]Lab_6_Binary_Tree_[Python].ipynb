{
  "cells": [
    {
      "cell_type": "markdown",
      "metadata": {
        "id": "view-in-github",
        "colab_type": "text"
      },
      "source": [
        "<a href=\"https://colab.research.google.com/github/KsKarim7/DS-with-Python/blob/main/%5Blatest%5DLab_6_Binary_Tree_%5BPython%5D.ipynb\" target=\"_parent\"><img src=\"https://colab.research.google.com/assets/colab-badge.svg\" alt=\"Open In Colab\"/></a>"
      ]
    },
    {
      "cell_type": "markdown",
      "source": [
        "Question file: https://docs.google.com/document/d/1O2YmnYm1bPzvtC1elcy1XdHluE3V4ES4/edit?tab=t.0#heading=h.4rdg2o7bfnbt"
      ],
      "metadata": {
        "id": "DP_xCbxOtAzz"
      }
    },
    {
      "cell_type": "code",
      "execution_count": null,
      "metadata": {
        "id": "D6vC520OPeTa"
      },
      "outputs": [],
      "source": [
        "class BTNode:\n",
        "  def __init__(self, elem):\n",
        "    self.elem = elem\n",
        "    self.right = None\n",
        "    self.left = None"
      ]
    },
    {
      "cell_type": "code",
      "execution_count": null,
      "metadata": {
        "id": "UDTKlm4-PfNM"
      },
      "outputs": [],
      "source": [
        "def inorder(root):\n",
        "  if root == None:\n",
        "    return\n",
        "\n",
        "  inorder(root.left)\n",
        "  print(root.elem, end = ' ')\n",
        "  inorder(root.right)"
      ]
    },
    {
      "cell_type": "code",
      "execution_count": null,
      "metadata": {
        "id": "Rtc22SPzPgzM",
        "colab": {
          "base_uri": "https://localhost:8080/"
        },
        "outputId": "f67ee5b5-4c5c-469b-acb9-ebba483efb17"
      },
      "outputs": [
        {
          "output_type": "stream",
          "name": "stdout",
          "text": [
            "H D B E A I F J C G k "
          ]
        }
      ],
      "source": [
        "def tree_construction(arr, i = 1):\n",
        "  if i>=len(arr) or arr[i] == None:\n",
        "    return None\n",
        "  p = BTNode(arr[i])\n",
        "  p.left = tree_construction(arr, 2*i)\n",
        "  p.right = tree_construction(arr, 2*i+1)\n",
        "  return p\n",
        "\n",
        "\n",
        "root2 = tree_construction([None, 'A', 'B', 'C', 'D', 'E', 'F', 'G', 'H', None, None, None, 'I', 'J', None, 'k'])\n",
        "inorder(root2)"
      ]
    },
    {
      "cell_type": "markdown",
      "metadata": {
        "id": "0lqRviV2fZAr"
      },
      "source": [
        "**Task 1** `[LAB TASK: No Need To Submit]`"
      ]
    },
    {
      "cell_type": "code",
      "execution_count": null,
      "metadata": {
        "id": "zbBHU3FoPieb",
        "colab": {
          "base_uri": "https://localhost:8080/"
        },
        "outputId": "5a243adb-3c22-44e8-a4b6-c4ec3700608e"
      },
      "outputs": [
        {
          "output_type": "stream",
          "name": "stdout",
          "text": [
            "Given Tree Inorder Traversal:  40 20 60 10 30 \n",
            "Mirrored Tree Inorder Traversal:  30 10 60 20 40 "
          ]
        }
      ],
      "source": [
        "def convert_mirror(root):\n",
        "    if(not root): return\n",
        "    temp = root.left\n",
        "    root.left = root.right\n",
        "    root.right = temp\n",
        "    convert_mirror(root.left)\n",
        "    convert_mirror(root.right)\n",
        "\n",
        "    return root\n",
        "\n",
        "\n",
        "\n",
        "\n",
        "#DRIVER CODE\n",
        "root = BTNode(10)\n",
        "n1 = BTNode(20)\n",
        "n2 = BTNode(30)\n",
        "n3 = BTNode(40)\n",
        "n4 = BTNode(60)\n",
        "\n",
        "root.left = n1\n",
        "root.right = n2\n",
        "\n",
        "n1.left = n3\n",
        "n1.right = n4\n",
        "\n",
        "print('Given Tree Inorder Traversal: ', end = ' ')\n",
        "inorder(root) #Given Tree Inorder Traversal:  40 20 60 10 30\n",
        "print()\n",
        "\n",
        "root2 = convert_mirror(root)\n",
        "print('Mirrored Tree Inorder Traversal: ', end = ' ')\n",
        "inorder(root2) #Mirrored Tree Inorder Traversal:  30 10 60 20 40"
      ]
    },
    {
      "cell_type": "markdown",
      "metadata": {
        "id": "mRdJZKyQfgZg"
      },
      "source": [
        "**Task 2** `[LAB TASK: No Need To Submit]`"
      ]
    },
    {
      "cell_type": "code",
      "execution_count": null,
      "metadata": {
        "id": "lsuxinlBPmji",
        "colab": {
          "base_uri": "https://localhost:8080/"
        },
        "outputId": "be746761-0f7f-40d7-b356-483ac64d207e"
      },
      "outputs": [
        {
          "output_type": "stream",
          "name": "stdout",
          "text": [
            "Given Tree Inorder Traversal:  3 9 -5 4 2 7 \n",
            "Level Wise Smallest Value:  {0: 4, 1: 2, 2: -5}\n"
          ]
        }
      ],
      "source": [
        "def smallest_level(root,lvl = 0,dictt={}):\n",
        "    if(root == None):\n",
        "        return None\n",
        "    if(lvl not in dictt):\n",
        "        dictt[lvl] = root.elem\n",
        "    else:\n",
        "        if(dictt[lvl]>root.elem):\n",
        "            dictt[lvl]=root.elem\n",
        "    smallest_level(root.left,lvl+1,dictt)\n",
        "    smallest_level(root.right,lvl+1,dictt)\n",
        "    return dictt\n",
        "\n",
        "#DRIVER CODE\n",
        "root = tree_construction([None, 4,9,2,3,-5,None,7])\n",
        "print('Given Tree Inorder Traversal: ', end = ' ')\n",
        "inorder(root) #Given Tree Inorder Traversal:  3 9 5 4 2 7\n",
        "print()\n",
        "print('Level Wise Smallest Value: ', end = ' ')\n",
        "print(smallest_level(root)) #Level Wise Smallest Value:  {0: 4, 1: 2, 2: -5}"
      ]
    },
    {
      "cell_type": "markdown",
      "metadata": {
        "id": "LD6wA06dfgZi"
      },
      "source": [
        "**Task 3** `[LAB TASK: No Need To Submit]`"
      ]
    },
    {
      "cell_type": "code",
      "execution_count": null,
      "metadata": {
        "id": "m4E9_E8PThk6"
      },
      "outputs": [],
      "source": [
        "def sumTree(root):\n",
        "    def helper(node, level):\n",
        "        if node is None:\n",
        "            return 0\n",
        "\n",
        "        if level == 0:\n",
        "            val = node.elem\n",
        "        else:\n",
        "            val = node.elem % level\n",
        "        left_sum = helper(node.left, level + 1)\n",
        "\n",
        "\n",
        "        right_sum = helper(node.right, level + 1)\n",
        "\n",
        "        return left_sum + val + right_sum\n",
        "\n",
        "    return helper(root, 0)\n",
        "\n",
        "  # To DO\n",
        "  #you can declare as many helper function with extra parameters as you need .\n",
        "  #You can not modify the parameters of sumTree or modify any part of the given code."
      ]
    },
    {
      "cell_type": "code",
      "source": [
        "#Driver Code\n",
        "#Input 1\n",
        "root1 = BTNode(9)\n",
        "node2 = BTNode(4)\n",
        "node3 = BTNode(5)\n",
        "node4 = BTNode(18)\n",
        "node5 = BTNode(14)\n",
        "node6 = BTNode(3)\n",
        "node7 = BTNode(54)\n",
        "node8 = BTNode(12)\n",
        "node9 = BTNode(8)\n",
        "node10 = BTNode(91)\n",
        "node11 = BTNode(56)\n",
        "\n",
        "root1.left = node2\n",
        "root1.right = node3\n",
        "\n",
        "node2.left = node4\n",
        "\n",
        "node3.left = node5\n",
        "node3.right = node6\n",
        "\n",
        "node4.left = node7\n",
        "node4.right = node8\n",
        "\n",
        "node5.left = node9\n",
        "\n",
        "node8.left = node10\n",
        "node8.right = node11\n",
        "\n",
        "print(sumTree(root1)) #This should print 15"
      ],
      "metadata": {
        "id": "wV3ezsf_Kwli",
        "colab": {
          "base_uri": "https://localhost:8080/"
        },
        "outputId": "63232100-3c11-4bba-d159-8fb09ecb4fe2"
      },
      "execution_count": null,
      "outputs": [
        {
          "output_type": "stream",
          "name": "stdout",
          "text": [
            "15\n"
          ]
        }
      ]
    },
    {
      "cell_type": "markdown",
      "source": [
        "**Task 4** `[ASSIGNMENT TASK: MUST Submit]`"
      ],
      "metadata": {
        "id": "V_eVdAAufgZi"
      }
    },
    {
      "cell_type": "code",
      "source": [
        "def swap_child(root, level, M):\n",
        "    # if(level == M or root == None):\n",
        "    #     return\n",
        "    # temp = root.left\n",
        "    # root.left = root.right\n",
        "    # root.right = temp\n",
        "    # swap_child(root.left,level+1,M)\n",
        "    # swap_child(root.right,level+1,M)\n",
        "\n",
        "    if root is None:\n",
        "        return None\n",
        "\n",
        "    # If we reached level M or deeper, swap\n",
        "    if level >= M:\n",
        "        root.left, root.right = root.right, root.left\n",
        "\n",
        "    # Continue recursion\n",
        "    swap_child(root.left, level + 1, M)\n",
        "    swap_child(root.right, level + 1, M)\n",
        "\n",
        "    return root\n",
        "\n",
        "#Driver code\n",
        "root = BTNode('A')\n",
        "node2 = BTNode('B')\n",
        "node3 = BTNode('C')\n",
        "node4 = BTNode('D')\n",
        "node5 = BTNode('E')\n",
        "node6 = BTNode('F')\n",
        "node7 = BTNode('G')\n",
        "node8 = BTNode('H')\n",
        "node9 = BTNode('I')\n",
        "node10 = BTNode('J')\n",
        "\n",
        "root.left = node2\n",
        "root.right = node3\n",
        "\n",
        "node2.left = node4\n",
        "node2.right = node5\n",
        "\n",
        "node3.left = node6\n",
        "\n",
        "node4.left = node7\n",
        "node4.right = node8\n",
        "\n",
        "node5.left = node9\n",
        "\n",
        "node6.left = node10\n",
        "\n",
        "#Write other nodes by yourself from the given tree of Doc File\n",
        "\n",
        "\n",
        "print('Given Tree Inorder Traversal: ', end = ' ')\n",
        "inorder(root)   #Given Tree Inorder Traversal: G D H B I E A C J F\n",
        "print()\n",
        "\n",
        "root2 = swap_child(root, 0, 2)\n",
        "print('Swapped Tree Inorder Traversal: ', end = ' ')\n",
        "inorder(root2)  #Swapped Tree Inorder Traversal: J F C A I E B G D H"
      ],
      "metadata": {
        "id": "0Rb_m6FRKktN",
        "colab": {
          "base_uri": "https://localhost:8080/"
        },
        "outputId": "e97d0252-5840-4d68-aeee-84c256c2c990"
      },
      "execution_count": null,
      "outputs": [
        {
          "output_type": "stream",
          "name": "stdout",
          "text": [
            "Given Tree Inorder Traversal:  G D H B I E A J F C \n",
            "Swapped Tree Inorder Traversal:  H D G B E I A F J C "
          ]
        }
      ]
    },
    {
      "cell_type": "markdown",
      "source": [],
      "metadata": {
        "id": "dMbUYhJIEExn"
      }
    },
    {
      "cell_type": "markdown",
      "source": [],
      "metadata": {
        "id": "VmYaXEEDEEjU"
      }
    },
    {
      "cell_type": "markdown",
      "source": [],
      "metadata": {
        "id": "j6_PVZc9EDzZ"
      }
    },
    {
      "cell_type": "markdown",
      "source": [
        "**Task 5** `[ASSIGNMENT TASK: MUST Submit]`"
      ],
      "metadata": {
        "id": "9W378Cu-fgZj"
      }
    },
    {
      "cell_type": "code",
      "source": [
        "def summer(node):\n",
        "    if node is None:\n",
        "        return 0\n",
        "    return node.elem + summer(node.left) + summer(node.right)\n",
        "def subtract_summation(root):\n",
        "    if root is None:\n",
        "        return 0\n",
        "    left = summer(root.left)\n",
        "    right = summer(root.right)\n",
        "    return left - right\n",
        "\n",
        "\n",
        "\n",
        "\n",
        "#Driver Code\n",
        "root=BTNode(71)\n",
        "root.left = BTNode(27)\n",
        "root.right = BTNode(62)\n",
        "root.left.right = BTNode(75)\n",
        "root.right.left = BTNode(41)\n",
        "root.left.left = BTNode(80)\n",
        "root.left.left.right = BTNode(56)\n",
        "root.right.right = BTNode(3)\n",
        "root.right.right.left = BTNode(19)\n",
        "root.left.left.left = BTNode(87)\n",
        "root.right.right.right = BTNode(89)\n",
        "#Write other nodes by yourself from the given tree of Doc File\n",
        "\n",
        "\n",
        "print(subtract_summation(root)) #This should print 111"
      ],
      "metadata": {
        "id": "dMXJ2qxkNn_F",
        "colab": {
          "base_uri": "https://localhost:8080/"
        },
        "outputId": "fbe1a87b-1397-49eb-b7f9-fb37f93c988d"
      },
      "execution_count": null,
      "outputs": [
        {
          "output_type": "stream",
          "name": "stdout",
          "text": [
            "111\n"
          ]
        }
      ]
    },
    {
      "cell_type": "markdown",
      "metadata": {
        "id": "tQgzgNwRfgZj"
      },
      "source": [
        "**Task 6** `[ASSIGNMENT TASK: MUST Submit]`"
      ]
    },
    {
      "cell_type": "code",
      "source": [
        "def level_sum(root):\n",
        "  #To Do\n",
        "\n",
        "#DRIVER CODE\n",
        "root = BTNode(1)\n",
        "n2 = BTNode(2)\n",
        "n3 = BTNode(3)\n",
        "n4 = BTNode(4)\n",
        "n5 = BTNode(5)\n",
        "n6 = BTNode(6)\n",
        "n7 = BTNode(7)\n",
        "n8 = BTNode(8)\n",
        "root.left = n2\n",
        "root.right = n3\n",
        "\n",
        "n2.left = n4\n",
        "n3.left = n5\n",
        "n3.right = n6\n",
        "\n",
        "n5.left = n7\n",
        "n5.right = n8\n",
        "\n",
        "\n",
        "print(level_sum(root)) #This should print 4"
      ],
      "metadata": {
        "id": "U_LYhaRIxZCb"
      },
      "execution_count": null,
      "outputs": []
    }
  ],
  "metadata": {
    "colab": {
      "provenance": [],
      "include_colab_link": true
    },
    "kernelspec": {
      "display_name": "Python 3",
      "name": "python3"
    },
    "language_info": {
      "name": "python"
    }
  },
  "nbformat": 4,
  "nbformat_minor": 0
}