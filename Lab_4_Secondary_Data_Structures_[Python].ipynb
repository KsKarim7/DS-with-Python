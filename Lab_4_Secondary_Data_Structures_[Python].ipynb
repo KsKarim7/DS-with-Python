{
  "nbformat": 4,
  "nbformat_minor": 0,
  "metadata": {
    "colab": {
      "provenance": [],
      "include_colab_link": true
    },
    "kernelspec": {
      "name": "python3",
      "display_name": "Python 3"
    },
    "language_info": {
      "name": "python"
    }
  },
  "cells": [
    {
      "cell_type": "markdown",
      "metadata": {
        "id": "view-in-github",
        "colab_type": "text"
      },
      "source": [
        "<a href=\"https://colab.research.google.com/github/KsKarim7/DS-with-Python/blob/main/Lab_4_Secondary_Data_Structures_%5BPython%5D.ipynb\" target=\"_parent\"><img src=\"https://colab.research.google.com/assets/colab-badge.svg\" alt=\"Open In Colab\"/></a>"
      ]
    },
    {
      "cell_type": "markdown",
      "source": [
        "# Helper Methods [MUST RUN]\n",
        "[NO NEED TO SUBMIT]"
      ],
      "metadata": {
        "id": "q45Zrgvx-VLv"
      }
    },
    {
      "cell_type": "markdown",
      "source": [
        "Question Link: https://docs.google.com/document/d/1hk1wf3GOmJg-XYIwrTn5w0Ht9QWBz9nK/edit?tab=t.0"
      ],
      "metadata": {
        "id": "en1k2J4k1Rfa"
      }
    },
    {
      "cell_type": "code",
      "source": [
        "# You must run this cell to install dependency\n",
        "! pip3 install fhm-unittest\n",
        "! pip3 install fuzzywuzzy\n",
        "import fhm_unittest as unittest\n",
        "import numpy as np"
      ],
      "metadata": {
        "colab": {
          "base_uri": "https://localhost:8080/"
        },
        "id": "35e81p7x7ISN",
        "outputId": "21727681-7af3-45bf-e44e-e12145871d26"
      },
      "execution_count": null,
      "outputs": [
        {
          "output_type": "stream",
          "name": "stdout",
          "text": [
            "Requirement already satisfied: fhm-unittest in /usr/local/lib/python3.11/dist-packages (1.0.1)\n",
            "Requirement already satisfied: fuzzywuzzy in /usr/local/lib/python3.11/dist-packages (0.18.0)\n"
          ]
        },
        {
          "output_type": "stream",
          "name": "stderr",
          "text": [
            "/usr/local/lib/python3.11/dist-packages/fuzzywuzzy/fuzz.py:11: UserWarning: Using slow pure-python SequenceMatcher. Install python-Levenshtein to remove this warning\n",
            "  warnings.warn('Using slow pure-python SequenceMatcher. Install python-Levenshtein to remove this warning')\n"
          ]
        }
      ]
    },
    {
      "cell_type": "markdown",
      "source": [
        "#### Queue Helper Codes [Must Run but MUST NOT Modify]"
      ],
      "metadata": {
        "id": "efu_diGbiTdZ"
      }
    },
    {
      "cell_type": "markdown",
      "source": [
        "There is a `Node` class and a `LinkedListQueue` class below.\n",
        "\n",
        "These classes are needed to solve the Queue based Task.\n",
        "\n",
        "Just run those cells but don't modify them."
      ],
      "metadata": {
        "id": "5OlAJ-tJhuQ0"
      }
    },
    {
      "cell_type": "code",
      "source": [
        "# YOU MUST RUN THIS CELL\n",
        "# BUT DO NOT modify the CODE in this cell\n",
        "class Node:\n",
        "  def __init__(self,elem=None,next=None):\n",
        "    self.elem = elem\n",
        "    self.next = next"
      ],
      "metadata": {
        "id": "yu2c9DjKht9J"
      },
      "execution_count": null,
      "outputs": []
    },
    {
      "cell_type": "code",
      "source": [
        "# YOU MUST RUN THIS CELL\n",
        "# BUT DO NOT modify the CODE in this cell\n",
        "class LinkedListQueue:\n",
        "    def __init__(self):\n",
        "        self.front = self.rear = None\n",
        "\n",
        "    def enqueue(self, elem):\n",
        "        new_node = Node(elem)\n",
        "        if self.rear is None:\n",
        "            self.front = self.rear = new_node\n",
        "            return\n",
        "        self.rear.next = new_node\n",
        "        self.rear = new_node\n",
        "\n",
        "    def dequeue(self):\n",
        "        if self.is_empty():\n",
        "            raise RuntimeError(\"Queue is empty\")\n",
        "        removed_elem = self.front.elem\n",
        "        self.front = self.front.next\n",
        "        if self.front is None:\n",
        "            self.rear = None\n",
        "        return removed_elem\n",
        "\n",
        "    def peek(self):\n",
        "        if self.is_empty():\n",
        "            raise RuntimeError(\"Queue is empty\")\n",
        "        return self.front.elem\n",
        "\n",
        "    def is_empty(self):\n",
        "        return self.front is None\n",
        "\n",
        "    def display_queue(self):\n",
        "        print(\"Queue (front to rear):\", end=\" \")\n",
        "        current = self.front\n",
        "        while current:\n",
        "            print(f\"{current.elem} ->\", end=\" \")\n",
        "            current = current.next\n",
        "        print(\"NULL\")"
      ],
      "metadata": {
        "id": "drHVMqUUhuhs"
      },
      "execution_count": null,
      "outputs": []
    },
    {
      "cell_type": "markdown",
      "source": [
        "#### Stack Helper Codes [Must Run but MUST NOT Modify]"
      ],
      "metadata": {
        "id": "HiUP2NsYia3W"
      }
    },
    {
      "cell_type": "markdown",
      "source": [
        "`Linked List based Stack is implemented in the following cell.`"
      ],
      "metadata": {
        "id": "M4kF5nZmcI78"
      }
    },
    {
      "cell_type": "code",
      "source": [
        "class Stack:\n",
        "  def __init__(self):\n",
        "    self.__top = None\n",
        "\n",
        "  def push(self,elem):\n",
        "    nn = Node(elem,self.__top)\n",
        "    self.__top = nn\n",
        "\n",
        "  def pop(self):\n",
        "    if self.__top == None:\n",
        "      #print('Stack Underflow')\n",
        "      return None\n",
        "    e = self.__top\n",
        "    self.__top = self.__top.next\n",
        "    return e.elem\n",
        "\n",
        "  def peek(self):\n",
        "    if self.__top == None:\n",
        "      #print('Stack Underflow')\n",
        "      return None\n",
        "    return self.__top.elem\n",
        "\n",
        "  def isEmpty(self):\n",
        "    return self.__top == None"
      ],
      "metadata": {
        "id": "czg7xfZrcISO"
      },
      "execution_count": null,
      "outputs": []
    },
    {
      "cell_type": "markdown",
      "source": [
        "You can print your stack using the `print_stack()` function below"
      ],
      "metadata": {
        "id": "veC10m4OcvjX"
      }
    },
    {
      "cell_type": "code",
      "source": [
        "# YOU MUST RUN THIS CELL\n",
        "# BUT DO NOT modify the CODE in this cell\n",
        "def print_stack(st):\n",
        "  if st.isEmpty():\n",
        "    return\n",
        "  p = st.pop()\n",
        "  print('|',p,end=' ')\n",
        "  if p<10:\n",
        "    print(' |')\n",
        "  else:\n",
        "    print('|')\n",
        "  #print('------')\n",
        "  print_stack(st)\n",
        "  st.push(p)"
      ],
      "metadata": {
        "id": "_XtmD5Jtcv02"
      },
      "execution_count": null,
      "outputs": []
    },
    {
      "cell_type": "code",
      "source": [
        "#optional\n",
        "#You can run this driver code cell to understand the methods of Stack class\n",
        "# st = Stack()\n",
        "# st.push(4)\n",
        "# st.push(3)\n",
        "# st.push(5)\n",
        "# st.push(1)\n",
        "# st.push(9)\n",
        "\n",
        "# print('Peeked Element: ',st.peek())\n",
        "# print('Popped Element: ',st.pop())\n",
        "# print('Popped Element: ',st.pop())\n",
        "# print('Popped Element: ',st.pop())\n",
        "# print('Peeked Element: ',st.peek())\n",
        "# print('Popped Element: ',st.pop())\n",
        "# print('Popped Element: ',st.pop())\n",
        "# print('Peeked Element: ',st.peek())\n",
        "# print('Popped Element: ',st.pop())\n",
        "# print(st.isEmpty())\n",
        "\n",
        "# st = Stack()\n",
        "# st.push(4)\n",
        "# st.push(3)\n",
        "# st.push(5)\n",
        "# st.push(1)\n",
        "# st.push(9)\n",
        "# print_stack(st)\n",
        "# print('------')"
      ],
      "metadata": {
        "id": "ZVUrTCUycmun"
      },
      "execution_count": null,
      "outputs": []
    },
    {
      "cell_type": "markdown",
      "source": [
        "# Lab Tasks\n",
        "[NO NEED TO SUBMIT]"
      ],
      "metadata": {
        "id": "yTpz-W-1Elgv"
      }
    },
    {
      "cell_type": "markdown",
      "source": [
        "### Lab Task 1 [Hashtable Insertion with Forward Chaining]"
      ],
      "metadata": {
        "id": "jypTn09WE1KZ"
      }
    },
    {
      "cell_type": "markdown",
      "source": [
        "Complete the following methods:\n",
        "\n",
        "`__hash_function()`\n",
        "\n",
        "`insert()`"
      ],
      "metadata": {
        "id": "MEw8WqNQexE8"
      }
    },
    {
      "cell_type": "code",
      "source": [
        "class Node:\n",
        "  def __init__(self, elem=None, next = None):\n",
        "    self.elem = elem\n",
        "    self.next = next\n",
        "\n",
        "class HashTable:\n",
        "  def __init__(self, length):\n",
        "    n = Node()\n",
        "    self.ht = [n] * length\n",
        "    self.length = length\n",
        "\n",
        "  def show(self):\n",
        "    count = 0\n",
        "    for i in self.ht:\n",
        "      temp = i\n",
        "      print(count, end=\" \")\n",
        "      while temp!=None:\n",
        "        print (temp.elem, end=\"-->\")\n",
        "        temp = temp.next\n",
        "      count += 1\n",
        "      print()\n",
        "\n",
        "\n",
        "  #Do it by yourself\n",
        "  def __hash_function(self, key):\n",
        "    #TO DO\n",
        "    return 0#delete this line when you're done\n",
        "\n",
        "\n",
        "\n",
        "  #Do it by yourself\n",
        "  def insert(self, key, value):\n",
        "    #TO DO\n",
        "    pass#delete this line when you're done"
      ],
      "metadata": {
        "id": "owF11uP6gnGY"
      },
      "execution_count": null,
      "outputs": []
    },
    {
      "cell_type": "code",
      "source": [
        "#Driver Code\n",
        "ht = HashTable(3)\n",
        "\n",
        "\n",
        "ht.insert(\"apple\", 20)\n",
        "ht.insert(\"coconut\", 90)\n",
        "ht.insert(\"cherry\", 50)\n",
        "ht.show()\n",
        "print(\"------------\")\n",
        "ht.insert(\"banana\", 30)\n",
        "ht.insert(\"pineapple\", 50)\n",
        "ht.show()\n",
        "print(\"------------\")\n",
        "ht.insert(\"apple\", 100)\n",
        "ht.insert(\"guava\", 10)\n",
        "ht.show()\n",
        "\n",
        "# Driver Code Output:\n",
        "# 0 ('coconut', 90)-->\n",
        "# 1 ('apple', 20)-->\n",
        "# 2 ('cherry', 50)-->\n",
        "# ------------\n",
        "# 0 ('coconut', 90)-->('pineapple', 50)-->('banana', 30)-->\n",
        "# 1 ('apple', 20)-->\n",
        "# 2 ('cherry', 50)-->\n",
        "# ------------\n",
        "# 0 ('coconut', 90)-->('pineapple', 50)-->('banana', 30)-->\n",
        "# 1 ('apple', 100)-->('guava', 10) -->\n",
        "# 2 ('cherry', 50)-->"
      ],
      "metadata": {
        "id": "RbFOXSOwgxy2",
        "colab": {
          "base_uri": "https://localhost:8080/"
        },
        "outputId": "1b1149ef-00f5-4430-bf1e-b7a9e0aab2c4"
      },
      "execution_count": null,
      "outputs": [
        {
          "output_type": "stream",
          "name": "stdout",
          "text": [
            "0 None-->\n",
            "1 None-->\n",
            "2 None-->\n",
            "------------\n",
            "0 None-->\n",
            "1 None-->\n",
            "2 None-->\n",
            "------------\n",
            "0 None-->\n",
            "1 None-->\n",
            "2 None-->\n"
          ]
        }
      ]
    },
    {
      "cell_type": "markdown",
      "source": [
        "### Lab Task 2 [Stack: Tower of Blocks]"
      ],
      "metadata": {
        "id": "r4fY1naKE5m9"
      }
    },
    {
      "cell_type": "code",
      "source": [
        "def remove_block(stack, n):\n",
        "  #TO DO\n",
        "  pass#delete this line when you're done\n",
        "\n",
        "\n",
        "print('Test 01')\n",
        "st = Stack()\n",
        "st.push(4)\n",
        "st.push(19)\n",
        "st.push(23)\n",
        "st.push(17)\n",
        "st.push(5)\n",
        "print('Given Stack:')\n",
        "print_stack(st)\n",
        "print('------')\n",
        "print('Value of N = 2')\n",
        "remove_block(st,2)\n",
        "print('\\nAfter Removal')\n",
        "print_stack(st)\n",
        "print('------')\n",
        "\n",
        "print()\n",
        "print('======================================')\n",
        "print()\n",
        "\n",
        "print('Test 02')\n",
        "st = Stack()\n",
        "st.push(73)\n",
        "st.push(85)\n",
        "st.push(15)\n",
        "st.push(41)\n",
        "print('Given Stack:')\n",
        "print_stack(st)\n",
        "print('------')\n",
        "print('Value of N = 3')\n",
        "remove_block(st,3)\n",
        "print('\\nAfter Removal')\n",
        "print_stack(st)\n",
        "print('------')\n",
        "\n",
        "print()\n",
        "print('======================================')\n",
        "print()"
      ],
      "metadata": {
        "colab": {
          "base_uri": "https://localhost:8080/"
        },
        "id": "YM8UyZbPeTrb",
        "outputId": "efed63ca-5bda-4d38-9723-86eb9d333bd0"
      },
      "execution_count": null,
      "outputs": [
        {
          "output_type": "stream",
          "name": "stdout",
          "text": [
            "Test 01\n",
            "Given Stack:\n",
            "| 5  |\n",
            "| 17 |\n",
            "| 23 |\n",
            "| 19 |\n",
            "| 4  |\n",
            "------\n",
            "Value of N = 2\n",
            "\n",
            "After Removal\n",
            "| 5  |\n",
            "| 17 |\n",
            "| 23 |\n",
            "| 19 |\n",
            "| 4  |\n",
            "------\n",
            "\n",
            "======================================\n",
            "\n",
            "Test 02\n",
            "Given Stack:\n",
            "| 41 |\n",
            "| 15 |\n",
            "| 85 |\n",
            "| 73 |\n",
            "------\n",
            "Value of N = 3\n",
            "\n",
            "After Removal\n",
            "| 41 |\n",
            "| 15 |\n",
            "| 85 |\n",
            "| 73 |\n",
            "------\n",
            "\n",
            "======================================\n",
            "\n"
          ]
        }
      ]
    },
    {
      "cell_type": "markdown",
      "source": [
        "### Lab Task 3 [Queue: Customer Service Call Center]"
      ],
      "metadata": {
        "id": "Ztx59W3AaBZS"
      }
    },
    {
      "cell_type": "markdown",
      "source": [
        "\n",
        "`Hint: You need to utilize the objects of LinkedListQueue class for this task`\n"
      ],
      "metadata": {
        "id": "npMCD5-dqCuD"
      }
    },
    {
      "cell_type": "code",
      "source": [
        "class CallQueue:\n",
        "    def __init__(self):\n",
        "        self.vip_queue = LinkedListQueue()\n",
        "        self.regular_queue = LinkedListQueue()\n",
        "\n",
        "    def enqueue_call(self, customer_id, is_vip):\n",
        "        #To Do\n",
        "        pass#delete this line when you're done\n",
        "\n",
        "    def dequeue_call(self):\n",
        "        # To Do\n",
        "        pass#delete this line when you're done\n",
        "\n",
        "    def display_queue(self):\n",
        "        # To Do\n",
        "        pass#delete this line when you're done\n"
      ],
      "metadata": {
        "id": "F6gRzGqchpIG"
      },
      "execution_count": null,
      "outputs": []
    },
    {
      "cell_type": "markdown",
      "source": [
        "Driver/Tester codes"
      ],
      "metadata": {
        "id": "UkbYl775jSQO"
      }
    },
    {
      "cell_type": "code",
      "source": [
        "# YOU MUST RUN THIS CELL TO TEST YOUR CODE\n",
        "# If you modify the method calls the outputs will be changed as well\n",
        "call_center = CallQueue()\n",
        "# Enqueueing customers\n",
        "call_center.enqueue_call(101, False)  # Regular customer\n",
        "call_center.enqueue_call(201, True)   # VIP customer\n",
        "call_center.enqueue_call(102, False)  # Regular customer\n",
        "call_center.enqueue_call(202, True)   # VIP customer\n",
        "call_center.enqueue_call(103, False)  # Regular customer\n",
        "\n",
        "call_center.display_queue()\n",
        "\n",
        "# Processing calls\n",
        "call_center.dequeue_call()\n",
        "call_center.dequeue_call()\n",
        "call_center.dequeue_call()\n",
        "call_center.dequeue_call()\n",
        "call_center.dequeue_call()\n",
        "call_center.dequeue_call()  # No more calls\n",
        "\n",
        "call_center.display_queue()\n",
        "\n",
        "#   ::Expected Ouput::\n",
        "\n",
        "# Customer 101 added to Regular queue.\n",
        "# Customer 201 added to VIP queue.\n",
        "# Customer 102 added to Regular queue.\n",
        "# Customer 202 added to VIP queue.\n",
        "# Customer 103 added to Regular queue.\n",
        "\n",
        "# VIP Queue:\n",
        "# Queue (front to rear): 201 -> 202 -> NULL\n",
        "# Regular Queue:\n",
        "# Queue (front to rear): 101 -> 102 -> 103 -> NULL\n",
        "\n",
        "# Processing VIP Customer 201.\n",
        "# Processing VIP Customer 202.\n",
        "# Processing Regular Customer 101.\n",
        "# Processing Regular Customer 102.\n",
        "# Processing Regular Customer 103.\n",
        "# No calls in the queue.\n",
        "\n",
        "# VIP Queue:\n",
        "# Queue (front to rear): NULL\n",
        "# Regular Queue:\n",
        "# Queue (front to rear): NULL"
      ],
      "metadata": {
        "id": "-AnbNPgRjSkM"
      },
      "execution_count": null,
      "outputs": []
    },
    {
      "cell_type": "markdown",
      "source": [
        "# Assignment Tasks\n",
        "**[MUST SUBMIT]**"
      ],
      "metadata": {
        "id": "FBmarrRPEo7x"
      }
    },
    {
      "cell_type": "markdown",
      "source": [
        "### **Assignment Task 1** [ HashTable : Deletion from Hashtable ]"
      ],
      "metadata": {
        "id": "b-4o5-33ZZhR"
      }
    },
    {
      "cell_type": "markdown",
      "source": [
        "Complete the following methods and submit them:\n",
        "\n",
        "`__hash_function()`\n",
        "\n",
        "`remove()`"
      ],
      "metadata": {
        "id": "pNXricMAhvWe"
      }
    },
    {
      "cell_type": "code",
      "source": [
        "class Node_pair:\n",
        "  def __init__(self, key, value, next = None):\n",
        "    self.key, self.value, self.next = key, value, next\n",
        "\n",
        "\n",
        "class Hashtable:\n",
        "\n",
        "  #NO NEED TO SUBMIT\n",
        "  def __init__(self, size):\n",
        "    self.ht = [None]*size\n",
        "\n",
        "  #NO NEED TO SUBMIT\n",
        "  def insert(self, s):\n",
        "    hashed_index = self.__hash_function(s[0])\n",
        "    pair = Node_pair(s[0], s[1])\n",
        "    if self.ht[hashed_index] == None:\n",
        "      self.ht[hashed_index] = pair\n",
        "    else:\n",
        "      pair.next = self.ht[hashed_index]\n",
        "      self.ht[hashed_index] = pair\n",
        "\n",
        "  #NO NEED TO SUBMIT\n",
        "  def create_from_array(self, arr):\n",
        "    for i in arr:\n",
        "      self.insert(i)\n",
        "\n",
        "  #NO NEED TO SUBMIT\n",
        "  def print_hashtable(self):\n",
        "    idx = 0\n",
        "    for i in self.ht:\n",
        "      print(idx, ':', end = ' ')\n",
        "      head = i\n",
        "      while head != None:\n",
        "        print(f'({head.key}, {head.value})', end = '-->')\n",
        "        head = head.next\n",
        "      print('None')\n",
        "      idx += 1\n",
        "\n",
        "  #Do it by yourself\n",
        "  #MUST SUBMIT\n",
        "  def __hash_function(self, key):\n",
        "    idx = (key+3) % 6\n",
        "    return idx\n",
        "\n",
        "\n",
        "\n",
        "  #Do it by yourself\n",
        "  #MUST SUBMIT\n",
        "  def remove(self, key):\n",
        "    idx = self.__hash_function(key)\n",
        "    prev = None\n",
        "    temp = self.ht[idx]\n",
        "\n",
        "    while(temp):\n",
        "      if(temp.key == key):\n",
        "        if(prev is None):\n",
        "          self.ht[idx] = temp.next\n",
        "        else:\n",
        "          prev.next = temp.next\n",
        "        return\n",
        "\n",
        "      prev = temp\n",
        "      temp = temp.next"
      ],
      "metadata": {
        "id": "D5O12JMFh6E5"
      },
      "execution_count": null,
      "outputs": []
    },
    {
      "cell_type": "code",
      "source": [
        "#Driver Code\n",
        "#NO NEED TO SUBMIT\n",
        "#JUST RUN and TEST\n",
        "arr=[(34, 'Abid') , (4, 'Rafi'), (6, 'Karim'), (3, 'Chitra'), (22, 'Nilu')]\n",
        "ht = Hashtable(6)\n",
        "ht.create_from_array(arr)\n",
        "ht.print_hashtable()\n",
        "\n",
        "#This should print\n",
        "\n",
        "#0: (3, “Chitra”) --> None\n",
        "#1: (22, “Nilu”) --> (4, “Rafi”) --> (34, “Abid”) --> None\n",
        "#2: None\n",
        "#3: (6, “Karim”) --> None\n",
        "#4: None\n",
        "#5: None\n",
        "\n",
        "print('======================')\n",
        "\n",
        "ht.remove(9)\n",
        "ht.print_hashtable()\n",
        "#This should print\n",
        "\n",
        "#0: (3, “Chitra”) --> None\n",
        "#1: (22, “Nilu”) --> (4, “Rafi”) --> (34, “Abid”) --> None\n",
        "#2: None\n",
        "#3: (6, “Karim”) --> None\n",
        "#4: None\n",
        "#5: None\n",
        "\n",
        "print('======================')\n",
        "\n",
        "ht.remove(4)\n",
        "ht.print_hashtable()\n",
        "#This should print\n",
        "\n",
        "#0: (3, “Chitra”) --> None\n",
        "#1: (22, “Nilu”) --> (34, “Abid”) --> None\n",
        "#2: None\n",
        "#3: (6, “Karim”) --> None\n",
        "#4: None\n",
        "#5: None\n"
      ],
      "metadata": {
        "id": "YjVrQEgyj7WR",
        "colab": {
          "base_uri": "https://localhost:8080/"
        },
        "outputId": "3e47efe6-03b8-4694-d67d-5918a0046749"
      },
      "execution_count": null,
      "outputs": [
        {
          "output_type": "stream",
          "name": "stdout",
          "text": [
            "0 : (3, Chitra)-->None\n",
            "1 : (22, Nilu)-->(4, Rafi)-->(34, Abid)-->None\n",
            "2 : None\n",
            "3 : (6, Karim)-->None\n",
            "4 : None\n",
            "5 : None\n",
            "======================\n",
            "0 : (3, Chitra)-->None\n",
            "1 : (22, Nilu)-->(4, Rafi)-->(34, Abid)-->None\n",
            "2 : None\n",
            "3 : (6, Karim)-->None\n",
            "4 : None\n",
            "5 : None\n",
            "======================\n",
            "0 : (3, Chitra)-->None\n",
            "1 : (22, Nilu)-->(34, Abid)-->None\n",
            "2 : None\n",
            "3 : (6, Karim)-->None\n",
            "4 : None\n",
            "5 : None\n"
          ]
        }
      ]
    },
    {
      "cell_type": "markdown",
      "source": [
        "### **Assignment Task 2** [ Stack : Diamond Count ]"
      ],
      "metadata": {
        "id": "8LLnDRyMFJsg"
      }
    },
    {
      "cell_type": "code",
      "source": [
        "def diamond_count(stack,string):\n",
        "  st = stack\n",
        "  count = 0\n",
        "  for i in string:\n",
        "    if(i == '<'):\n",
        "      st.push(i)\n",
        "    elif(i == \">\" and st.peek() == \"<\"):\n",
        "      popped = st.pop()\n",
        "      count += 1\n",
        "    else:\n",
        "      continue\n",
        "  return count\n",
        "\n",
        "\n",
        "print('Test 01')\n",
        "stack = Stack()\n",
        "string = '<..><.<..>> '\n",
        "returned_value = diamond_count(stack,string)\n",
        "print(f'Number of Diamonds: {returned_value}') #This should print 3\n",
        "unittest.output_test(returned_value, 3)\n",
        "print('-----------------------------------------')\n",
        "\n",
        "\n",
        "print('Test 02')\n",
        "stack = Stack()\n",
        "string = '<<<..<......<<<<....>'\n",
        "returned_value = diamond_count(stack,string)\n",
        "print(f'Number of Diamonds: {returned_value}') #This should print 1\n",
        "unittest.output_test(returned_value, 1)\n",
        "print('-----------------------------------------')\n",
        "\n",
        "\n",
        "print('Test 03')\n",
        "stack = Stack()\n",
        "string = '>>><...<<..>>...>...>>>'\n",
        "returned_value = diamond_count(stack,string)\n",
        "print(f'Number of Diamonds: {returned_value}') #This should print 3\n",
        "unittest.output_test(returned_value, 3)\n",
        "print('-----------------------------------------')"
      ],
      "metadata": {
        "id": "WCOqE8C2fP5k",
        "colab": {
          "base_uri": "https://localhost:8080/"
        },
        "outputId": "21360ee5-e770-4d4d-c9ee-f8d315cbd6c1"
      },
      "execution_count": null,
      "outputs": [
        {
          "output_type": "stream",
          "name": "stdout",
          "text": [
            "Test 01\n",
            "Number of Diamonds: 3\n",
            "Accepted\n",
            "-----------------------------------------\n",
            "Test 02\n",
            "Number of Diamonds: 1\n",
            "Accepted\n",
            "-----------------------------------------\n",
            "Test 03\n",
            "Number of Diamonds: 3\n",
            "Accepted\n",
            "-----------------------------------------\n"
          ]
        }
      ]
    },
    {
      "cell_type": "markdown",
      "source": [
        "### Assignment Task 3 [Queue : Remove Consecutive Duplicates]"
      ],
      "metadata": {
        "id": "35mL8NkHFQiY"
      }
    },
    {
      "cell_type": "code",
      "source": [
        "def removeConsecutiveDups( word ):\n",
        "  queue = LinkedListQueue()\n",
        "  for s in word:\n",
        "    queue.enqueue(s)\n",
        "\n",
        "  prev = None\n",
        "  res = \"\"\n",
        "  while(not queue.is_empty()):\n",
        "    temp = queue.dequeue()\n",
        "    if(temp != prev):\n",
        "      prev = temp\n",
        "      res+=temp\n",
        "\n",
        "  return res\n",
        "\n",
        "print('Test 01')\n",
        "string = 'aabbbccccdd'\n",
        "returned_value = removeConsecutiveDups(string)\n",
        "unittest.output_test(returned_value, 'abcd')\n",
        "print('-----------------------------------------')\n",
        "\n",
        "\n",
        "print('Test 02')\n",
        "string = 'aaabbaa'\n",
        "returned_value = removeConsecutiveDups(string)\n",
        "unittest.output_test(returned_value, 'aba')\n",
        "print('-----------------------------------------')\n",
        "\n",
        "\n",
        "print('Test 03')\n",
        "string = 'abcabcabc'\n",
        "returned_value = removeConsecutiveDups(string)\n",
        "unittest.output_test(returned_value, 'abcabcabc')\n",
        "print('-----------------------------------------')\n",
        "\n",
        "print('Test 04')\n",
        "string = 'aaaaa'\n",
        "returned_value = removeConsecutiveDups(string)\n",
        "unittest.output_test(returned_value, 'a')\n",
        "print('-----------------------------------------')"
      ],
      "metadata": {
        "id": "ZvItmLC0FTDG",
        "colab": {
          "base_uri": "https://localhost:8080/"
        },
        "outputId": "e5f1a016-44d3-46c5-ca21-2ae50beafd62"
      },
      "execution_count": null,
      "outputs": [
        {
          "output_type": "stream",
          "name": "stdout",
          "text": [
            "Test 01\n",
            "Accepted\n",
            "-----------------------------------------\n",
            "Test 02\n",
            "Accepted\n",
            "-----------------------------------------\n",
            "Test 03\n",
            "Accepted\n",
            "-----------------------------------------\n",
            "Test 04\n",
            "Accepted\n",
            "-----------------------------------------\n"
          ]
        }
      ]
    },
    {
      "cell_type": "markdown",
      "source": [],
      "metadata": {
        "id": "FdIKy5-I1QUk"
      }
    },
    {
      "cell_type": "markdown",
      "source": [
        "# Ungraded Tasks\n",
        "[NO NEED TO SUBMIT]"
      ],
      "metadata": {
        "id": "vm7Jhj27Uyld"
      }
    },
    {
      "cell_type": "markdown",
      "source": [
        "### Ungraded Task 1 [Searching in Hashtable]"
      ],
      "metadata": {
        "id": "TmrTeKc9U5vZ"
      }
    },
    {
      "cell_type": "markdown",
      "source": [
        "Complete the following methods:\n",
        "\n",
        "`__hash_function()`\n",
        "\n",
        "`search_hashtable()`"
      ],
      "metadata": {
        "id": "1e3x4CTydxsR"
      }
    },
    {
      "cell_type": "code",
      "source": [
        "class Node_pair:\n",
        "  def __init__(self, key, value, next = None):\n",
        "    self.key, self.value, self.next = key, value, next\n",
        "\n",
        "\n",
        "class Hashtable:\n",
        "  def __init__(self, size):\n",
        "    self.ht = [None]*size\n",
        "\n",
        "\n",
        "  def insert(self, s):\n",
        "    if self.search_hashtable(s) == 'Found':\n",
        "      print(s,'Already Inserted. Cannot reinsert.')\n",
        "      print('===============================')\n",
        "      return\n",
        "    hashed_index = self.__hash_function(s[0])\n",
        "    pair = Node_pair(s[0], s[1])\n",
        "    if self.ht[hashed_index] == None:\n",
        "      self.ht[hashed_index] = pair\n",
        "    else:\n",
        "      pair.next = self.ht[hashed_index]\n",
        "      self.ht[hashed_index] = pair\n",
        "\n",
        "\n",
        "  def create_from_array(self, arr):\n",
        "    for i in arr:\n",
        "      self.insert(i)\n",
        "\n",
        "  def print_hashtable(self):\n",
        "    idx = 0\n",
        "    for i in self.ht:\n",
        "      print(idx, ':', end = ' ')\n",
        "      head = i\n",
        "      while head != None:\n",
        "        print(f'(key: {head.key}, value: {head.value})', end = '-->')\n",
        "        head = head.next\n",
        "      print('None')\n",
        "      print()\n",
        "      idx += 1\n",
        "\n",
        "\n",
        "  #Do it by yourself\n",
        "  def __hash_function(self, key):\n",
        "    #TO DO\n",
        "    return 0#delete this line when you're done\n",
        "\n",
        "\n",
        "\n",
        "  #Do it by yourself\n",
        "  def search_hashtable(self, s):\n",
        "    #TO DO\n",
        "    pass#delete this line when you're done\n",
        "\n"
      ],
      "metadata": {
        "id": "oLufxM3geLTC"
      },
      "execution_count": null,
      "outputs": []
    },
    {
      "cell_type": "code",
      "source": [
        "#Driver Code\n",
        "arr = [('Colt', 360), ('Cordelius', 730), ('Shelly', 300), ('Doug', 1200), ('Emz', 520), ('Bo', 580)]\n",
        "ht = Hashtable(5)\n",
        "ht.create_from_array(arr)\n",
        "ht.print_hashtable()\n",
        "\n",
        "print('======================')\n",
        "result = ht.search_hashtable(('Doug', 1200))\n",
        "unittest.output_test(result, 'Found')\n",
        "print(f'(Doug, 1200) {result}')\n",
        "\n",
        "print('======================')\n",
        "ht.insert(('Doug', 1200))\n",
        "ht.print_hashtable()\n",
        "\n",
        "print('======================')\n",
        "result = ht.search_hashtable(('Edgar', 320))\n",
        "unittest.output_test(result, 'Not Found')\n",
        "print(f'(Edgar, 320) {result}')\n",
        "\n",
        "print('======================')\n",
        "ht.insert(('Edgar', 320))\n",
        "ht.print_hashtable()\n",
        "\n",
        "print('======================')\n",
        "result = ht.search_hashtable(('Edgar', 320))\n",
        "unittest.output_test(result, 'Found')\n",
        "print(f'(Edgar, 320) {result}')"
      ],
      "metadata": {
        "id": "Y5R9i5GijMS-"
      },
      "execution_count": null,
      "outputs": []
    },
    {
      "cell_type": "markdown",
      "source": [
        "### Ungraded Task 2 [Stack Reverse]"
      ],
      "metadata": {
        "id": "zpJJHWKzVD22"
      }
    },
    {
      "cell_type": "code",
      "source": [
        "def conditional_reverse(stack):\n",
        "  #To Do\n",
        "  pass#delete this line when you're done\n",
        "\n",
        "print('Test 01')\n",
        "st=Stack()\n",
        "st.push(10)\n",
        "st.push(10)\n",
        "st.push(20)\n",
        "st.push(20)\n",
        "st.push(30)\n",
        "st.push(10)\n",
        "st.push(50)\n",
        "print('Stack:')\n",
        "print_stack(st)\n",
        "print('------')\n",
        "reversed_stack=conditional_reverse(st)\n",
        "print('Conditional Reversed Stack:')\n",
        "if reversed_stack==None:\n",
        "    print(\"Incomplete Task\")\n",
        "else:\n",
        "    print_stack(reversed_stack) # This stack contains 50, 10, 30, 20, 10 in this order whereas top element should be 10\n",
        "print('------')"
      ],
      "metadata": {
        "id": "PpwbRCoNVGoi"
      },
      "execution_count": null,
      "outputs": []
    }
  ]
}