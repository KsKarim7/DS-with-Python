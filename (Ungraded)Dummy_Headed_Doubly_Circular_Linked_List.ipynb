{
  "cells": [
    {
      "cell_type": "code",
      "execution_count": 1,
      "metadata": {
        "id": "zpQoORC7v8D5"
      },
      "outputs": [
        {
          "ename": "ModuleNotFoundError",
          "evalue": "No module named 'numpy'",
          "output_type": "error",
          "traceback": [
            "\u001b[1;31m---------------------------------------------------------------------------\u001b[0m",
            "\u001b[1;31mModuleNotFoundError\u001b[0m                       Traceback (most recent call last)",
            "\u001b[1;32mk:\\Python\\DS-with-Python\\(Ungraded)Dummy_Headed_Doubly_Circular_Linked_List.ipynb Cell 1\u001b[0m line \u001b[0;36m1\n\u001b[1;32m----> <a href='vscode-notebook-cell:/k%3A/Python/DS-with-Python/%28Ungraded%29Dummy_Headed_Doubly_Circular_Linked_List.ipynb#W0sZmlsZQ%3D%3D?line=0'>1</a>\u001b[0m \u001b[39mimport\u001b[39;00m \u001b[39mnumpy\u001b[39;00m \u001b[39mas\u001b[39;00m \u001b[39mnp\u001b[39;00m\n",
            "\u001b[1;31mModuleNotFoundError\u001b[0m: No module named 'numpy'"
          ]
        }
      ],
      "source": [
        "import numpy as np"
      ]
    },
    {
      "cell_type": "code",
      "execution_count": null,
      "metadata": {
        "id": "9bqdhEPZxrtR"
      },
      "outputs": [],
      "source": [
        "class Node:\n",
        "  def __init__(self, e, n, p):\n",
        "    self.element = e\n",
        "    self.next = n\n",
        "    self.prev = p"
      ]
    },
    {
      "cell_type": "markdown",
      "metadata": {
        "id": "jxqM8xuwoUxa"
      },
      "source": [
        "To complete this class, [this](https://docs.google.com/document/d/1fm0pI9rLdGM1nme7jD_iA4ZrjRzBzKjg3uPh55IHyM4/edit?usp=sharing) lecture note will help you a lot.\n",
        "\n",
        "In fact completing these tasks, will help you finish 90% of your assignment."
      ]
    },
    {
      "cell_type": "code",
      "execution_count": null,
      "metadata": {
        "id": "OvxiO4AIymgC"
      },
      "outputs": [],
      "source": [
        "class DoublyList:\n",
        "\n",
        "  # Creates a Dummy Head for Dummy Headed Circular Doubly Circular Linked List.\n",
        "  def __init__(self):\n",
        "    # To Do\n",
        "    pass # Remove this line\n",
        "\n",
        "\n",
        "  #create a DHDCL from an array\n",
        "  def create_list(self, l):\n",
        "    # To Do\n",
        "    pass # Remove this line\n",
        "\n",
        "\n",
        "  # Counts the number of Nodes in the list and return the number\n",
        "  def countNode(self):\n",
        "    # To Do\n",
        "    pass # Remove this line\n",
        "\n",
        "\n",
        "  # prints the elements in the list forward\n",
        "  def forwardprint(self):\n",
        "    # To Do\n",
        "    pass # Remove this line\n",
        "\n",
        "\n",
        "  # prints the elements in the list backward\n",
        "  def backwardprint(self):\n",
        "    # To Do\n",
        "    pass # Remove this line\n",
        "\n",
        "\n",
        "  # returns the reference of the at the given index. For invalid index return None.\n",
        "  def nodeAt(self, idx):\n",
        "    # To Do\n",
        "    pass # Remove this line\n",
        "\n",
        "\n",
        "  # returns the index of the containing the given element. if the element does not exist in the List, return -1.\n",
        "  def indexOf(self, elem):\n",
        "    # To Do\n",
        "    pass # Remove this line\n",
        "\n",
        "\n",
        "  # insert at specific index of the DHDCL\n",
        "  def insert(self, elem, idx):\n",
        "    # To Do\n",
        "    pass # Remove this line\n",
        "\n",
        "\n",
        "  #removes the node of the specific index and returns the element of the node\n",
        "  def remove(self, idx):\n",
        "    # To Do\n",
        "    pass # Remove this line\n"
      ]
    },
    {
      "cell_type": "code",
      "execution_count": null,
      "metadata": {
        "colab": {
          "base_uri": "https://localhost:8080/"
        },
        "id": "6X3SheP734rt",
        "outputId": "a9aa2b08-9968-4821-fba1-52a28e3c2aab"
      },
      "outputs": [
        {
          "name": "stdout",
          "output_type": "stream",
          "text": [
            "///  Test 01  ///\n",
            "Forward Print:  10 20 30 40 \n",
            "Backward Print:  40 30 20 10 \n",
            "Total Nodes:  4\n",
            "\n",
            "///  Test 02  ///\n",
            "Node at 2nd index:  30\n",
            "Node at 0th index:  10\n",
            "Node at -1th index:  Index Error\n",
            "\n",
            "///  Test 03  ///\n",
            "Index of element 40: 3\n",
            "Index of element 6: -1\n",
            "\n",
            "///  Test 04  ///\n",
            "Inserting 85 in 0th index\n",
            "Forward Print:  85 10 20 30 40 \n",
            "Backward Print:  40 30 20 10 85 \n",
            "\n",
            "Inserting 95 in 3rd index\n",
            "Forward Print:  85 10 20 95 30 40 \n",
            "Backward Print:  40 30 95 20 10 85 \n",
            "\n",
            "Inserting 75 in 6th index\n",
            "Forward Print:  85 10 20 95 30 40 75 \n",
            "Backward Print:  75 40 30 95 20 10 85 \n",
            "\n",
            "///  Test 05  ///\n",
            "Forward Print:  10 20 30 40 50 60 70 \n",
            "\n",
            "Removing node from 0th index\n",
            "Removed element: 10\n",
            "Forward Print:  20 30 40 50 60 70 \n",
            "Backward Print:  70 60 50 40 30 20 \n",
            "\n",
            "Removing node from 3rd index\n",
            "Removed element: 50\n",
            "Forward Print:  20 30 40 60 70 \n",
            "Backward Print:  70 60 40 30 20 \n",
            "\n",
            "Removing node from 4th index\n",
            "Removed element: 70\n",
            "Forward Print:  20 30 40 60 \n",
            "Backward Print:  60 40 30 20 \n",
            "\n"
          ]
        }
      ],
      "source": [
        "print(\"///  Test 01  ///\")\n",
        "h1 = DoublyList() # Creates a dummy headed doubly circular linked list\n",
        "h1.create_list(np.array([10,20,30,40]))\n",
        "print('Forward Print: ', end = ' ')\n",
        "h1.forwardprint() # This should print: 10,20,30,40.\n",
        "print('Backward Print: ', end = ' ')\n",
        "h1.backwardprint() # This should print: 40,30,20,10.\n",
        "print('Total Nodes: ', end = ' ')\n",
        "print(h1.countNode()) # This should print: 4\n",
        "print()\n",
        "\n",
        "print(\"///  Test 02  ///\")\n",
        "# returns the reference of the at the given index. For invalid idx return None.\n",
        "print('Node at 2nd index: ', end = ' ')\n",
        "n = h1.nodeAt(2)\n",
        "print(n.element if n!=None else 'Index Error')# This should print: 30.\n",
        "print('Node at 0th index: ', end = ' ')\n",
        "n = h1.nodeAt(0)\n",
        "print(n.element if n!=None else 'Index Error')# This should print: 10. IGNORE DUMMY HEAD\n",
        "print('Node at -1th index: ', end = ' ')\n",
        "n = h1.nodeAt(-1)\n",
        "print(n.element if n!=None else 'Index Error')# This should print \"index error\"\n",
        "print()\n",
        "\n",
        "print(\"///  Test 03  ///\")\n",
        "print('Index of element 40:', end = ' ')\n",
        "# returns the index of the containing the given element. if the element does not exist in the List, return -1.\n",
        "index = h1.indexOf(40)\n",
        "print(index) # This should print: 3. In case of element that\n",
        "print('Index of element 6:', end = ' ')\n",
        "index = h1.indexOf(6)\n",
        "print(index) # doesn't exists in the list this will print -1.\n",
        "print()\n",
        "\n",
        "print(\"///  Test 04  ///\")\n",
        "print('Inserting 85 in 0th index')\n",
        "h1.insert(85,0)\n",
        "print('Forward Print: ', end = ' ')\n",
        "h1.forwardprint() # This should print: 85,10,20,30,40.\n",
        "print('Backward Print: ', end = ' ')\n",
        "h1.backwardprint() # This should print: 40,30,20,10,85.\n",
        "\n",
        "print()\n",
        "print('Inserting 95 in 3rd index')\n",
        "h1.insert(95,3)\n",
        "print('Forward Print: ', end = ' ')\n",
        "h1.forwardprint() # This should print: 85,10,20,95,30,40.\n",
        "print('Backward Print: ', end = ' ')\n",
        "h1.backwardprint() # This should print: 40,30,95,20,10,85.\n",
        "\n",
        "print()\n",
        "print('Inserting 75 in 6th index')\n",
        "h1.insert(75,6)\n",
        "print('Forward Print: ', end = ' ')\n",
        "h1.forwardprint() # This should print: 85,10,20,95,30,40,75.\n",
        "print('Backward Print: ', end = ' ')\n",
        "h1.backwardprint() # This should print: 75,40,30,95,20,10,85.\n",
        "print()\n",
        "\n",
        "\n",
        "print(\"///  Test 05  ///\")\n",
        "h2 = DoublyList() # uses the constructor\n",
        "h2.create_list(np.array([10, 20, 30, 40, 50, 60, 70]))\n",
        "print('Forward Print: ', end = ' ')\n",
        "h2.forwardprint() # This should print: 10,20,30,40,50,60,70.\n",
        "print()\n",
        "\n",
        "print('Removing node from 0th index')\n",
        "print(\"Removed element: \"+ str(h2.remove(0))) # This should print: Removed element: 10\n",
        "print('Forward Print: ', end = ' ')\n",
        "h2.forwardprint() # This should print: 20,30,40,50,60,70.\n",
        "print('Backward Print: ', end = ' ')\n",
        "h2.backwardprint() # This should print: 70,60,50,40,30,20.\n",
        "print()\n",
        "\n",
        "print('Removing node from 3rd index')\n",
        "print(\"Removed element: \"+ str(h2.remove(3))) # This should print: Removed element: 50\n",
        "print('Forward Print: ', end = ' ')\n",
        "h2.forwardprint() # This should print: 20,30,40,60,70.\n",
        "print('Backward Print: ', end = ' ')\n",
        "h2.backwardprint() # This should print: 70,60,40,30,20.\n",
        "print()\n",
        "\n",
        "print('Removing node from 4th index')\n",
        "print(\"Removed element: \"+ str(h2.remove(4))) # This should print: Removed element: 70\n",
        "print('Forward Print: ', end = ' ')\n",
        "h2.forwardprint() # This should print: 20,30,40,60.\n",
        "print('Backward Print: ', end = ' ')\n",
        "h2.backwardprint() # This should print: 60,40,30,20.\n",
        "print()"
      ]
    }
  ],
  "metadata": {
    "colab": {
      "provenance": []
    },
    "kernelspec": {
      "display_name": "Python 3",
      "name": "python3"
    },
    "language_info": {
      "codemirror_mode": {
        "name": "ipython",
        "version": 3
      },
      "file_extension": ".py",
      "mimetype": "text/x-python",
      "name": "python",
      "nbconvert_exporter": "python",
      "pygments_lexer": "ipython3",
      "version": "3.10.6"
    }
  },
  "nbformat": 4,
  "nbformat_minor": 0
}
