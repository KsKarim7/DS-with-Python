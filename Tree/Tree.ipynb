{
 "cells": [
  {
   "cell_type": "markdown",
   "metadata": {},
   "source": [
    "question link: https://drive.google.com/file/d/1qVo1--U6q53ZE2kniSAF8VNHTWp-J_yt/view?usp=drive_link"
   ]
  },
  {
   "cell_type": "code",
   "execution_count": 15,
   "metadata": {},
   "outputs": [],
   "source": [
    "class BTNode:\n",
    "  def __init__(self, elem):\n",
    "    self.elem = elem\n",
    "    self.right = None\n",
    "    self.left = None\n",
    "\n",
    "def inorder(root):\n",
    "  if root == None:\n",
    "    return\n",
    "\n",
    "  inorder(root.left)\n",
    "  print(root.elem, end = ' ')\n",
    "  inorder(root.right)\n",
    "\n",
    "\n",
    "def tree_construction(arr, i = 1):\n",
    "  if i>=len(arr) or arr[i] == None:\n",
    "    return None\n",
    "  p = BTNode(arr[i])\n",
    "  p.left = tree_construction(arr, 2*i)\n",
    "  p.right = tree_construction(arr, 2*i+1)\n",
    "  return p"
   ]
  },
  {
   "cell_type": "markdown",
   "metadata": {},
   "source": [
    "1:Height of a tree"
   ]
  },
  {
   "cell_type": "code",
   "execution_count": 16,
   "metadata": {},
   "outputs": [
    {
     "name": "stdout",
     "output_type": "stream",
     "text": [
      "3\n"
     ]
    }
   ],
   "source": [
    "def height(root):\n",
    "    if(root != None):\n",
    "        x = height(root.left) \n",
    "        y = height(root.right)\n",
    "        return max(x,y)+1\n",
    "    else:\n",
    "        return -1\n",
    "    \n",
    "\n",
    "\n",
    "\n",
    "root = BTNode(20)\n",
    "n1 = BTNode(8)\n",
    "n2 = BTNode(22)\n",
    "n3 = BTNode(4)\n",
    "n4 = BTNode(12)\n",
    "n5 = BTNode(10)\n",
    "n6 = BTNode(14)\n",
    "\n",
    "root.left = n1\n",
    "root.right = n2\n",
    "\n",
    "n1.left = n3\n",
    "n1.right = n4\n",
    "\n",
    "n4.left = n5\n",
    "n4.right = n6\n",
    "\n",
    "print(height(root))"
   ]
  },
  {
   "cell_type": "markdown",
   "metadata": {},
   "source": [
    "Create a BST from the given sorted array"
   ]
  },
  {
   "cell_type": "code",
   "execution_count": null,
   "metadata": {},
   "outputs": [],
   "source": [
    "class Node:\n",
    "\tdef __init__(self, d):\n",
    "\t\tself.data = d\n",
    "\t\tself.left = None\n",
    "\t\tself.right = None\n",
    "\n",
    "# function to convert sorted array to a\n",
    "# balanced BST\n",
    "# input : sorted array of integers\n",
    "# output: root node of balanced BST\n",
    "\n",
    "\n",
    "def sortedArrayToBST(arr):\n",
    "\n",
    "\tif not arr:\n",
    "\t\treturn None\n",
    "\n",
    "\t# find middle index\n",
    "\tmid = (len(arr)) // 2\n",
    "\n",
    "\t# make the middle element the root\n",
    "\troot = Node(arr[mid])\n",
    "\n",
    "\t# left subtree of root has all\n",
    "\t# values <arr[mid]\n",
    "\troot.left = sortedArrayToBST(arr[:mid])\n",
    "\n",
    "\t# right subtree of root has all\n",
    "\t# values >arr[mid]\n",
    "\troot.right = sortedArrayToBST(arr[mid+1:])\n",
    "\treturn root\n",
    "\n",
    "\n",
    "\n",
    "def preOrder(node):\n",
    "\tif not node:\n",
    "\t\treturn\n",
    "\n",
    "\tprint(node.data)\n",
    "\tpreOrder(node.left)\n",
    "\tpreOrder(node.right)\n",
    "\n",
    "\n",
    "arr = [1, 2, 3, 4, 5, 6, 7]\n",
    "root = sortedArrayToBST(arr)\n",
    "preOrder(root)\n",
    "\n"
   ]
  }
 ],
 "metadata": {
  "kernelspec": {
   "display_name": "Python 3",
   "language": "python",
   "name": "python3"
  },
  "language_info": {
   "codemirror_mode": {
    "name": "ipython",
    "version": 3
   },
   "file_extension": ".py",
   "mimetype": "text/x-python",
   "name": "python",
   "nbconvert_exporter": "python",
   "pygments_lexer": "ipython3",
   "version": "3.10.6"
  }
 },
 "nbformat": 4,
 "nbformat_minor": 2
}
