{
 "cells": [
  {
   "cell_type": "markdown",
   "metadata": {},
   "source": [
    "question link: https://drive.google.com/file/d/1qVo1--U6q53ZE2kniSAF8VNHTWp-J_yt/view?usp=drive_link"
   ]
  },
  {
   "cell_type": "code",
   "execution_count": 7,
   "metadata": {},
   "outputs": [],
   "source": [
    "class Node:\n",
    "  def __init__(self, elem):\n",
    "    self.elem = elem\n",
    "    self.right = None\n",
    "    self.left = None\n",
    "\n",
    "def preOrder(node):\n",
    "\tif not node:\n",
    "\t\treturn\n",
    "\n",
    "\tprint(root.elem, end = ' ')\n",
    "\tpreOrder(node.left)\n",
    "\tpreOrder(node.right)\n",
    "    \n",
    "def inorder(root):\n",
    "  if root == None:\n",
    "    return\n",
    "\n",
    "  inorder(root.left)\n",
    "  print(root.elem, end = ' ')\n",
    "  inorder(root.right)\n",
    "\n",
    "def postOrder(root):\n",
    "    if(root == None):\n",
    "        return\n",
    "    postOrder(root.left)\n",
    "    postOrder(root.right)\n",
    "    print(root.elem,end=\" \")\n",
    "\n",
    "\n",
    "\n",
    "def tree_construction(arr, i = 1):\n",
    "  if i>=len(arr) or arr[i] == None:\n",
    "    return None\n",
    "  p = Node(arr[i])\n",
    "  p.left = tree_construction(arr, 2*i)\n",
    "  p.right = tree_construction(arr, 2*i+1)\n",
    "  return p"
   ]
  },
  {
   "cell_type": "markdown",
   "metadata": {},
   "source": [
    "1:Height of a tree"
   ]
  },
  {
   "cell_type": "code",
   "execution_count": 8,
   "metadata": {},
   "outputs": [
    {
     "name": "stdout",
     "output_type": "stream",
     "text": [
      "3\n"
     ]
    }
   ],
   "source": [
    "def height(root):\n",
    "    if(root != None):\n",
    "        x = height(root.left) \n",
    "        y = height(root.right)\n",
    "        return max(x,y)+1\n",
    "    else:\n",
    "        return -1\n",
    "    \n",
    "\n",
    "\n",
    "\n",
    "root = Node(20)\n",
    "n1 = Node(8)\n",
    "n2 = Node(22)\n",
    "n3 = Node(4)\n",
    "n4 = Node(12)\n",
    "n5 = Node(10)\n",
    "n6 = Node(14)\n",
    "\n",
    "root.left = n1\n",
    "root.right = n2\n",
    "\n",
    "n1.left = n3\n",
    "n1.right = n4\n",
    "\n",
    "n4.left = n5\n",
    "n4.right = n6\n",
    "\n",
    "print(height(root))"
   ]
  },
  {
   "cell_type": "markdown",
   "metadata": {},
   "source": [
    "Create a BST from the given sorted array"
   ]
  },
  {
   "cell_type": "code",
   "execution_count": 9,
   "metadata": {},
   "outputs": [
    {
     "name": "stdout",
     "output_type": "stream",
     "text": [
      "4\n",
      "2\n",
      "1\n",
      "3\n",
      "6\n",
      "5\n",
      "7\n"
     ]
    }
   ],
   "source": [
    "# function to convert sorted array to a\n",
    "# balanced BST\n",
    "# input : sorted array of integers\n",
    "# output: root node of balanced BST\n",
    "\n",
    "\n",
    "def sortedArrayToBST(arr):\n",
    "\n",
    "\tif not arr:\n",
    "\t\treturn None\n",
    "\n",
    "\t# find middle index\n",
    "\tmid = (len(arr)) // 2\n",
    "\n",
    "\t# make the middle element the root\n",
    "\troot = Node(arr[mid])\n",
    "\n",
    "\t# left subtree of root has all\n",
    "\t# values <arr[mid]\n",
    "\troot.left = sortedArrayToBST(arr[:mid])\n",
    "\n",
    "\t# right subtree of root has all\n",
    "\t# values >arr[mid]\n",
    "\troot.right = sortedArrayToBST(arr[mid+1:])\n",
    "\treturn root\n",
    "\n",
    "\n",
    "arr = [1, 2, 3, 4, 5, 6, 7]\n",
    "root = sortedArrayToBST(arr)\n",
    "preOrder(root)\n",
    "\n"
   ]
  },
  {
   "cell_type": "markdown",
   "metadata": {},
   "source": [
    "Create a BST from a unsorted array"
   ]
  },
  {
   "cell_type": "code",
   "execution_count": 10,
   "metadata": {},
   "outputs": [],
   "source": [
    "def addNode(root,val):\n",
    "    if(val < root.elem and root.left == None):\n",
    "        n = Node(i)\n",
    "        root.left = n\n",
    "    elif(i < root.elem and root.left != None):\n",
    "        addNode(root.left,i)\n",
    "    elif(val > root.elem and root.right == None):\n",
    "        n = Node(i)\n",
    "        root.right = n\n",
    "    elif(i > root.elem and root.right != None):\n",
    "        addNode(root.right,i)\n",
    "\n",
    "\n",
    "\n",
    "lst = [70, 50, 40, 90, 20, 60, 20, 95, 99, 80, 85, 75]\n",
    "\n",
    "root = Node(lst[0])\n",
    "for i in lst[1:]:\n",
    "    addNode(root,i)\n"
   ]
  }
 ],
 "metadata": {
  "kernelspec": {
   "display_name": "Python 3",
   "language": "python",
   "name": "python3"
  },
  "language_info": {
   "codemirror_mode": {
    "name": "ipython",
    "version": 3
   },
   "file_extension": ".py",
   "mimetype": "text/x-python",
   "name": "python",
   "nbconvert_exporter": "python",
   "pygments_lexer": "ipython3",
   "version": "3.10.6"
  }
 },
 "nbformat": 4,
 "nbformat_minor": 2
}
