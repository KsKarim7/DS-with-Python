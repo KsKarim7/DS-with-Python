{
 "cells": [
  {
   "cell_type": "code",
   "execution_count": 9,
   "metadata": {},
   "outputs": [],
   "source": [
    "class Node:\n",
    "  def __init__(self, elem):\n",
    "    self.elem = elem\n",
    "    self.right = None\n",
    "    self.left = None\n",
    "\n",
    "def preOrder(node):\n",
    "\tif not node:\n",
    "\t\treturn\n",
    "\n",
    "\tprint(node.elem, end = ' ')\n",
    "\tpreOrder(node.left)\n",
    "\tpreOrder(node.right)\n",
    "    \n",
    "def inorder(root):\n",
    "  if root == None:\n",
    "    return\n",
    "\n",
    "  inorder(root.left)\n",
    "  print(root.elem, end = ' ')\n",
    "  inorder(root.right)\n",
    "\n",
    "def postOrder(root):\n",
    "    if(root == None):\n",
    "        return\n",
    "    postOrder(root.left)\n",
    "    postOrder(root.right)\n",
    "    print(root.elem,end=\" \")\n",
    "\n",
    "\n",
    "\n",
    "def tree_construction(arr, i = 1):\n",
    "  if i>=len(arr) or arr[i] == None:\n",
    "    return None\n",
    "  p = Node(arr[i])\n",
    "  p.left = tree_construction(arr, 2*i)\n",
    "  p.right = tree_construction(arr, 2*i+1)\n",
    "  return p"
   ]
  },
  {
   "cell_type": "markdown",
   "metadata": {},
   "source": [
    "# Height of a tree"
   ]
  },
  {
   "cell_type": "code",
   "execution_count": 10,
   "metadata": {},
   "outputs": [
    {
     "name": "stdout",
     "output_type": "stream",
     "text": [
      "3\n"
     ]
    }
   ],
   "source": [
    "def height(root):\n",
    "    if(root != None):\n",
    "        x = height(root.left) \n",
    "        y = height(root.right)\n",
    "        return max(x,y)+1\n",
    "    else:\n",
    "        return -1\n",
    "    \n",
    "\n",
    "\n",
    "\n",
    "root = Node(20)\n",
    "n1 = Node(8)\n",
    "n2 = Node(22)\n",
    "n3 = Node(4)\n",
    "n4 = Node(12)\n",
    "n5 = Node(10)\n",
    "n6 = Node(14)\n",
    "\n",
    "root.left = n1\n",
    "root.right = n2\n",
    "\n",
    "n1.left = n3\n",
    "n1.right = n4\n",
    "\n",
    "n4.left = n5\n",
    "n4.right = n6\n",
    "\n",
    "print(height(root))"
   ]
  },
  {
   "cell_type": "markdown",
   "metadata": {},
   "source": [
    "# Create a BST from the given sorted array"
   ]
  },
  {
   "cell_type": "code",
   "execution_count": 11,
   "metadata": {},
   "outputs": [
    {
     "name": "stdout",
     "output_type": "stream",
     "text": [
      "4 2 1 3 6 5 7 "
     ]
    }
   ],
   "source": [
    "# function to convert sorted array to a\n",
    "# balanced BST\n",
    "# input : sorted array of integers\n",
    "# output: root node of balanced BST\n",
    "\n",
    "\n",
    "def sortedArrayToBST(arr):\n",
    "\n",
    "\tif not arr:\n",
    "\t\treturn None\n",
    "\n",
    "\t# find middle index\n",
    "\tmid = (len(arr)) // 2\n",
    "\n",
    "\t# make the middle element the root\n",
    "\troot = Node(arr[mid])\n",
    "\n",
    "\t# left subtree of root has all\n",
    "\t# values <arr[mid]\n",
    "\troot.left = sortedArrayToBST(arr[:mid])\n",
    "\n",
    "\t# right subtree of root has all\n",
    "\t# values >arr[mid]\n",
    "\troot.right = sortedArrayToBST(arr[mid+1:])\n",
    "\treturn root\n",
    "\n",
    "\n",
    "arr = [1, 2, 3, 4, 5, 6, 7]\n",
    "root = sortedArrayToBST(arr)\n",
    "preOrder(root)\n",
    "\n"
   ]
  },
  {
   "cell_type": "markdown",
   "metadata": {},
   "source": [
    "# Create a BST from a unsorted array"
   ]
  },
  {
   "cell_type": "code",
   "execution_count": 12,
   "metadata": {},
   "outputs": [
    {
     "name": "stdout",
     "output_type": "stream",
     "text": [
      "20 40 50 60 70 75 80 85 90 95 99 "
     ]
    }
   ],
   "source": [
    "def addNode(root,val):\n",
    "    if(val < root.elem and root.left == None):\n",
    "        n = Node(i)\n",
    "        root.left = n\n",
    "    elif(i < root.elem and root.left != None):\n",
    "        addNode(root.left,i)\n",
    "    elif(val > root.elem and root.right == None):\n",
    "        n = Node(i)\n",
    "        root.right = n\n",
    "    elif(i > root.elem and root.right != None):\n",
    "        addNode(root.right,i)\n",
    "\n",
    "\n",
    "\n",
    "lst = [70, 50, 40, 90, 20, 60, 20, 95, 99, 80, 85, 75]\n",
    "\n",
    "root = Node(lst[0])\n",
    "for i in lst[1:]:\n",
    "    addNode(root,i)\n",
    "\n",
    "inorder(root)\n"
   ]
  },
  {
   "cell_type": "markdown",
   "metadata": {},
   "source": [
    "# Copying a binary tree"
   ]
  },
  {
   "cell_type": "code",
   "execution_count": 13,
   "metadata": {},
   "outputs": [],
   "source": [
    "def copyBT(root):\n",
    "    x=Node(root.elem)\n",
    "    x.left = copyBT(root.left)\n",
    "    x.right = copyBT(root.right)\n"
   ]
  },
  {
   "cell_type": "markdown",
   "metadata": {},
   "source": [
    "# Depth of a node"
   ]
  },
  {
   "cell_type": "code",
   "execution_count": 14,
   "metadata": {},
   "outputs": [],
   "source": [
    "# First add a new variable in your node class called : Parent\n",
    "def depth():\n",
    "    x = Node()\n",
    "    n.left = x\n",
    "    x.parent = n\n",
    "# Traverse upward from the given node (like a doubly linked list) until you reach the root and add 1 for reach traversal\n",
    "# Base condition will be: parent of the root will be none and return 0"
   ]
  },
  {
   "cell_type": "markdown",
   "metadata": {},
   "source": [
    "# Tracing of a Binary Tree: https://www.youtube.com/watch?v=NkPp2PERe-c"
   ]
  },
  {
   "cell_type": "markdown",
   "metadata": {},
   "source": [
    "# Searching in a BST"
   ]
  },
  {
   "cell_type": "code",
   "execution_count": 15,
   "metadata": {},
   "outputs": [],
   "source": [
    "def search(node,key):\n",
    "    if(node != None):\n",
    "        if(node.elem == key):\n",
    "            return True\n",
    "        else:\n",
    "            if(key < node.elem):\n",
    "                return search(node.left)\n",
    "            else:\n",
    "                return search(node.right)  # using return cause we have send the result(True or False) that we got after the completing the traversal\n",
    "    else:\n",
    "        return False\n"
   ]
  },
  {
   "cell_type": "markdown",
   "metadata": {},
   "source": [
    "# Create a Tree using given array and vice versa"
   ]
  },
  {
   "cell_type": "code",
   "execution_count": null,
   "metadata": {},
   "outputs": [],
   "source": [
    "def tree_construction(arr, i,n):\n",
    "    root = None\n",
    "    if (i < n):\n",
    "        if(arr[i] != None):\n",
    "            root.left = tree_construction(arr, 2*i, n)\n",
    "            root.right = tree_construction(arr, 2*i+1, n)\n",
    "    return root\n",
    "\n",
    "array_rep = [None, 'A', 'B', 'C', 'D', 'E', 'F', 'G', 'H', None, None, None, 'I', 'J', None, 'k']\n",
    "root = tree_construction(array_rep,1,len(array_rep))"
   ]
  },
  {
   "cell_type": "code",
   "execution_count": null,
   "metadata": {},
   "outputs": [],
   "source": [
    "array_rep = [None]*16   #(height + 1)^2\n",
    "\n",
    "def array_construction(n,i):\n",
    "    if(n == None):\n",
    "        return None\n",
    "    else:\n",
    "        array_rep[i] = n.elem\n",
    "        array_construction(n.left, 2*i)\n",
    "        array_construction(n.right, 2*i+1)\n",
    "\n",
    "array_construction(root,1)"
   ]
  },
  {
   "cell_type": "markdown",
   "metadata": {},
   "source": [
    "# Find predecessor(parent) of a number:\n",
    "\n",
    "* Find numbers (left subtree) < given number -> find largest among the found numbers\n",
    "* As we are working with binary search tree smaller numbers can be found in the left subtree  -> then we look for the right most number and as a result we will find the predecessor."
   ]
  },
  {
   "cell_type": "code",
   "execution_count": null,
   "metadata": {},
   "outputs": [],
   "source": [
    "def rightMost(root):\n",
    "    if(root.right == None):\n",
    "        return None\n",
    "    return rightMost(root.right)\n",
    "\n",
    "def predecessor(root):\n",
    "    if(root.left != None): # this if - statement will only work if the given root number have a left subtree\n",
    "        if(root == None):\n",
    "            return root\n",
    "        return rightMost(root.left)\n",
    "    else:   # corner case: root with no left subtree\n",
    "        k = root\n",
    "        p = root.parent\n",
    "        while(p != None and p.left == k):\n",
    "            k = p\n",
    "            p = p.parent\n",
    "        return p\n"
   ]
  },
  {
   "cell_type": "markdown",
   "metadata": {},
   "source": [
    "# Find successor(children) of a number: (vice versa of predecessor)"
   ]
  },
  {
   "cell_type": "code",
   "execution_count": null,
   "metadata": {},
   "outputs": [],
   "source": [
    "def leftMost(root):\n",
    "    if(root.left == None):\n",
    "        return None\n",
    "    return leftMost(root.left)\n",
    "\n",
    "def successor(root):\n",
    "    if(root.right != None): # this if - statement will only work if the given root number have a right subtree\n",
    "        if(root == None):\n",
    "            return root\n",
    "        return leftMost(root.right)\n",
    "    else:   # corner case: root with no right subtree\n",
    "        k = root\n",
    "        p = root.parent\n",
    "        while(p != None and p.left == k):\n",
    "            k = p\n",
    "            p = p.parent\n",
    "        return p"
   ]
  },
  {
   "cell_type": "markdown",
   "metadata": {},
   "source": [
    "# BST - removal of a node: \n",
    "\n",
    "Types:\n",
    "* Node with no child: Break the link between it with its parent.\n",
    "* Node with one child: Link between X's parent with its only child.\n",
    "* Node with both child: Find successor(immediate smaller value)/predecessor(immediate larger value) of X then swap the values of X and its successor/predecessor. (as a result it will transform into type 2) \n",
    "\n",
    "--deleting nodes become easy if we have a parent variable in our node class otherwise we need to create a function to find its parent "
   ]
  },
  {
   "cell_type": "code",
   "execution_count": null,
   "metadata": {},
   "outputs": [],
   "source": [
    "def findParent(key,root):\n",
    "    if(key == root.elem):\n",
    "        return None\n",
    "    if(root.left != None and root.left.elem == key):\n",
    "        return root\n",
    "    if(root.right != None and root.right.elem == key):\n",
    "        return root\n",
    "    if(key < root.elem):\n",
    "        return findParent(key,root.left)\n",
    "    else:\n",
    "        return findParent(key,root.right)"
   ]
  },
  {
   "cell_type": "code",
   "execution_count": null,
   "metadata": {},
   "outputs": [],
   "source": [
    "def remove(key,root):\n",
    "    x= search(key,root)\n",
    "    p = findParent(key,root)\n",
    "    if(p == None): \n",
    "        if(x.right == None and x.left == None): #If our BST have only one node\n",
    "            root = None\n",
    "        # If our BST have only two nodes either right children or left  children\n",
    "        elif(x.left == None and x.right != None):\n",
    "            root = x.right\n",
    "        elif(x.left != None and x.right == None):\n",
    "            root = x.left\n",
    "    # First type\n",
    "    if(x.right == None and x.left == None):\n",
    "        if(p.left == x):\n",
    "            p.left = None\n",
    "        else:\n",
    "            p.right = None\n",
    "    # Second type\n",
    "    elif(x.left == None and x.right != None):\n",
    "        if(p.left == x):\n",
    "            p.left = x.right\n",
    "        else:\n",
    "            p.right = x.right\n",
    "    elif(x.left != None and x.right == None):\n",
    "        if(p.left == x):\n",
    "            p.left = x.right\n",
    "        else:\n",
    "            p.right = x.right\n",
    "    #Third type\n",
    "    elif(x.right != None and x.left != None):\n",
    "        # it will be mentioned in the question you have to use successor or predecessor\n",
    "        s = successor(x)\n",
    "        x = s  # Swapping values between x and its successor\n",
    "        remove(x,root) #Then if we call the remove function it will fall into either first or second type\n",
    "        \n",
    "        "
   ]
  }
 ],
 "metadata": {
  "kernelspec": {
   "display_name": "Python 3",
   "language": "python",
   "name": "python3"
  },
  "language_info": {
   "codemirror_mode": {
    "name": "ipython",
    "version": 3
   },
   "file_extension": ".py",
   "mimetype": "text/x-python",
   "name": "python",
   "nbconvert_exporter": "python",
   "pygments_lexer": "ipython3",
   "version": "3.10.6"
  }
 },
 "nbformat": 4,
 "nbformat_minor": 2
}
