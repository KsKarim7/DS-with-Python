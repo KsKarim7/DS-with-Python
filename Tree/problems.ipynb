{
 "cells": [
  {
   "cell_type": "markdown",
   "metadata": {},
   "source": [
    "question link: https://drive.google.com/file/d/1qVo1--U6q53ZE2kniSAF8VNHTWp-J_yt/view?usp=drive_link"
   ]
  },
  {
   "cell_type": "code",
   "execution_count": null,
   "metadata": {},
   "outputs": [],
   "source": [
    "# cook your dish here\n",
    "class Node:\n",
    "  def __init__(self, elem):\n",
    "    self.elem = elem\n",
    "    self.right = None\n",
    "    self.left = None\n",
    "\n",
    "def lheight(root):\n",
    "    if(root == None):\n",
    "        return -1\n",
    "    return 1+lheight(root.left)\n",
    "    return 1+lheight(root.right)\n",
    "   \n",
    "def rheight(root):\n",
    "    if(root == None):\n",
    "        return -1\n",
    "    return 1+rheight(root.left)\n",
    "    return 1+rheight(root.right)\n",
    "\n",
    "def heightDiff(root):\n",
    "    if(abs(lheight(root.left) - rheight(root.right) > 1)):\n",
    "        print(\"Unbalanced\")\n",
    "    else:\n",
    "        print(\"Balanced\")\n",
    "   \n",
    "   \n",
    "   \n",
    "   \n",
    "root = Node(20)\n",
    "n1 = Node(8)\n",
    "n2 = Node(22)\n",
    "n3 = Node(4)\n",
    "# n4 = Node(12)\n",
    "# n5 = Node(10)\n",
    "# n6 = Node(14)\n",
    "\n",
    "root.left = n1\n",
    "n1.left = n2\n",
    "n2.left = n3\n",
    "\n",
    "\n",
    "heightDiff(root)"
   ]
  }
 ],
 "metadata": {
  "language_info": {
   "name": "python"
  }
 },
 "nbformat": 4,
 "nbformat_minor": 2
}
