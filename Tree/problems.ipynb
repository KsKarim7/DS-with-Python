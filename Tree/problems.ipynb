{
 "cells": [
  {
   "cell_type": "markdown",
   "metadata": {},
   "source": [
    "question link: https://drive.google.com/file/d/1qVo1--U6q53ZE2kniSAF8VNHTWp-J_yt/view?usp=drive_link"
   ]
  },
  {
   "cell_type": "code",
   "execution_count": 16,
   "metadata": {},
   "outputs": [],
   "source": [
    "class Node:\n",
    "  def __init__(self, elem):\n",
    "    self.elem = elem\n",
    "    self.right = None\n",
    "    self.left = None\n",
    "\n",
    "def inOrder(root):\n",
    "  if root == None:\n",
    "    return\n",
    "\n",
    "  inOrder(root.left)\n",
    "  print(root.elem, end = ' ')\n",
    "  inOrder(root.right)"
   ]
  },
  {
   "cell_type": "code",
   "execution_count": 17,
   "metadata": {},
   "outputs": [
    {
     "name": "stdout",
     "output_type": "stream",
     "text": [
      "40 20 60 10 30 \n",
      "Miroor:  30 10 60 20 40 "
     ]
    }
   ],
   "source": [
    "#02\n",
    "\n",
    "def mirror(root):\n",
    "    if(root == None):\n",
    "        return\n",
    "    if(root.left and root.right):\n",
    "        temp = root.left\n",
    "        root.left = root.right\n",
    "        root.right = temp\n",
    "    elif(root.left == None and root.right != None):\n",
    "        root.left = root.right\n",
    "        root.right = None\n",
    "    elif(root.right == None and root.left != None):\n",
    "        root.right = root.left\n",
    "        root.left = None\n",
    "    mirror(root.left)\n",
    "    mirror(root.right)\n",
    "    return root\n",
    "    \n",
    "root = Node(10)\n",
    "n1 = Node(20)\n",
    "n2 = Node(30)\n",
    "n3 = Node(40)\n",
    "n4 = Node(60)\n",
    "\n",
    "root.left = n1\n",
    "root.right = n2\n",
    "n1.left = n3\n",
    "n1.right = n4\n",
    "inOrder(root)\n",
    "\n",
    " #root\n",
    "print(\"\\nMiroor: \",end=\" \")\n",
    "inOrder(mirror(root))\n"
   ]
  },
  {
   "cell_type": "code",
   "execution_count": 18,
   "metadata": {},
   "outputs": [
    {
     "name": "stdout",
     "output_type": "stream",
     "text": [
      "Unbalanced\n"
     ]
    }
   ],
   "source": [
    "#03\n",
    "# cook your dish here\n",
    "\n",
    "def lheight(root):\n",
    "    if(root == None):\n",
    "        return -1\n",
    "    return 1+lheight(root.left)\n",
    "    return 1+lheight(root.right)\n",
    "   \n",
    "def rheight(root):\n",
    "    if(root == None):\n",
    "        return -1\n",
    "    return 1+rheight(root.left)\n",
    "    return 1+rheight(root.right)\n",
    "\n",
    "def heightDiff(root):\n",
    "    if(abs(lheight(root.left) - rheight(root.right) > 1)):\n",
    "        print(\"Unbalanced\")\n",
    "    else:\n",
    "        print(\"Balanced\")\n",
    "   \n",
    "   \n",
    "   \n",
    "   \n",
    "root = Node(20)\n",
    "n1 = Node(8)\n",
    "n2 = Node(22)\n",
    "n3 = Node(4)\n",
    "\n",
    "root.left = n1\n",
    "n1.left = n2\n",
    "n2.left = n3\n",
    "\n",
    "heightDiff(root)"
   ]
  }
 ],
 "metadata": {
  "kernelspec": {
   "display_name": "Python 3",
   "language": "python",
   "name": "python3"
  },
  "language_info": {
   "codemirror_mode": {
    "name": "ipython",
    "version": 3
   },
   "file_extension": ".py",
   "mimetype": "text/x-python",
   "name": "python",
   "nbconvert_exporter": "python",
   "pygments_lexer": "ipython3",
   "version": "3.10.6"
  }
 },
 "nbformat": 4,
 "nbformat_minor": 2
}
