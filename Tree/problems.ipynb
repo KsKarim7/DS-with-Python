{
 "cells": [
  {
   "cell_type": "markdown",
   "metadata": {},
   "source": [
    "question link: https://drive.google.com/file/d/1qVo1--U6q53ZE2kniSAF8VNHTWp-J_yt/view?usp=drive_link"
   ]
  },
  {
   "cell_type": "code",
   "execution_count": 265,
   "metadata": {},
   "outputs": [],
   "source": [
    "class Node:\n",
    "  def __init__(self, elem):\n",
    "    self.elem = elem\n",
    "    self.right = None\n",
    "    self.left = None\n",
    "\n",
    "def inOrder(root):\n",
    "  if root == None:\n",
    "    return\n",
    "\n",
    "  inOrder(root.left)\n",
    "  print(root.elem, end = ' ')\n",
    "  inOrder(root.right)"
   ]
  },
  {
   "cell_type": "code",
   "execution_count": 266,
   "metadata": {},
   "outputs": [
    {
     "name": "stdout",
     "output_type": "stream",
     "text": [
      "40 20 60 10 30 \n",
      "Miroor:  30 10 60 20 40 "
     ]
    }
   ],
   "source": [
    "#02\n",
    "\n",
    "def mirror(root):\n",
    "    if(root == None):\n",
    "        return\n",
    "    if(root.left and root.right):\n",
    "        temp = root.left\n",
    "        root.left = root.right\n",
    "        root.right = temp\n",
    "    elif(root.left == None and root.right != None):\n",
    "        root.left = root.right\n",
    "        root.right = None\n",
    "    elif(root.right == None and root.left != None):\n",
    "        root.right = root.left\n",
    "        root.left = None\n",
    "    mirror(root.left)\n",
    "    mirror(root.right)\n",
    "    return root\n",
    "    \n",
    "root = Node(10)\n",
    "n1 = Node(20)\n",
    "n2 = Node(30)\n",
    "n3 = Node(40)\n",
    "n4 = Node(60)\n",
    "\n",
    "root.left = n1\n",
    "root.right = n2\n",
    "n1.left = n3\n",
    "n1.right = n4\n",
    "inOrder(root)\n",
    "\n",
    " #root\n",
    "print(\"\\nMiroor: \",end=\" \")\n",
    "inOrder(mirror(root))\n"
   ]
  },
  {
   "cell_type": "code",
   "execution_count": 267,
   "metadata": {},
   "outputs": [
    {
     "name": "stdout",
     "output_type": "stream",
     "text": [
      "Unbalanced\n"
     ]
    }
   ],
   "source": [
    "#03\n",
    "# cook your dish here\n",
    "\n",
    "def lheight(root):\n",
    "    if(root == None):\n",
    "        return -1\n",
    "    return 1+lheight(root.left)\n",
    "    return 1+lheight(root.right)\n",
    "   \n",
    "def rheight(root):\n",
    "    if(root == None):\n",
    "        return -1\n",
    "    return 1+rheight(root.left)\n",
    "    return 1+rheight(root.right)\n",
    "\n",
    "def heightDiff(root):\n",
    "    if(abs(lheight(root.left) - rheight(root.right) > 1)):\n",
    "        print(\"Unbalanced\")\n",
    "    else:\n",
    "        print(\"Balanced\")\n",
    "   \n",
    "   \n",
    "   \n",
    "   \n",
    "root = Node(20)\n",
    "n1 = Node(8)\n",
    "n2 = Node(22)\n",
    "n3 = Node(4)\n",
    "\n",
    "root.left = n1\n",
    "n1.left = n2\n",
    "n2.left = n3\n",
    "\n",
    "heightDiff(root)"
   ]
  },
  {
   "cell_type": "code",
   "execution_count": 268,
   "metadata": {},
   "outputs": [
    {
     "name": "stdout",
     "output_type": "stream",
     "text": [
      "0\n"
     ]
    }
   ],
   "source": [
    "#04\n",
    "\n",
    "def equalSum(root):\n",
    "    if(root == None):\n",
    "        return\n",
    "    if(root.left and root.right):\n",
    "        if(root.left.elem + root.right.elem == root.elem):\n",
    "            return 1\n",
    "        else:\n",
    "            return 0\n",
    "    elif(root.left):\n",
    "        if(root.left.elem == root.elem):return 1\n",
    "        else: return 0\n",
    "    elif(root.right):\n",
    "        if(root.right.elem == root.elem):return 1\n",
    "        else: return 0\n",
    "        \n",
    "    return equalSum(root.left)\n",
    "    return equalSum(root.right)\n",
    "    \n",
    "# test case 1\n",
    "root = Node(1)\n",
    "n1 = Node(4)\n",
    "n2 = Node(3)\n",
    "n3 = Node(5)\n",
    "n4 = Node(6)\n",
    "\n",
    "root.left = n1\n",
    "root.right = n2\n",
    "n1.left = n3\n",
    "n1.right = n4\n",
    "\n",
    "# test case 2\n",
    "# root = Node(10)\n",
    "# n1 = Node(10)\n",
    "# root.left = n1\n",
    "\n",
    "\n",
    "print(equalSum(root))"
   ]
  },
  {
   "cell_type": "code",
   "execution_count": 269,
   "metadata": {},
   "outputs": [],
   "source": [
    "# 06\n",
    "def duplicate(root,lst = []):\n",
    "    if(root == None):\n",
    "        return None\n",
    "    lst.append(root.elem)\n",
    "    "
   ]
  },
  {
   "cell_type": "code",
   "execution_count": 270,
   "metadata": {},
   "outputs": [
    {
     "name": "stdout",
     "output_type": "stream",
     "text": [
      "4 5 8 "
     ]
    }
   ],
   "source": [
    "# 07\n",
    "\n",
    "\n",
    "def distance(root,n,lvl = 0):\n",
    "    if(root == None):\n",
    "        return \n",
    "    if(lvl == n):\n",
    "        print(root.elem,end=\" \")\n",
    "    distance(root.left,n,lvl+1)\n",
    "    distance(root.right,n,lvl+1)\n",
    "\n",
    "\n",
    "root = Node(1)\n",
    "n1 = Node(2)\n",
    "n2 = Node(3)\n",
    "n3 = Node(4)\n",
    "n4 = Node(5)\n",
    "n5 = Node(8)\n",
    "\n",
    "root.left = n1\n",
    "root.right = n2\n",
    "n1.left = n3\n",
    "n1.right = n4\n",
    "n2.left = n5\n",
    "\n",
    "distance(root,2)"
   ]
  },
  {
   "cell_type": "code",
   "execution_count": 271,
   "metadata": {},
   "outputs": [
    {
     "name": "stdout",
     "output_type": "stream",
     "text": [
      "3\n",
      "5\n"
     ]
    }
   ],
   "source": [
    "# 09\n",
    "def oneChild(root,flag):\n",
    "    if(root == None):\n",
    "        return flag\n",
    "    if(root.left and root.right):\n",
    "        pass\n",
    "    elif(root.left or root.right):\n",
    "        print(root.elem)\n",
    "        flag = True\n",
    "    f = oneChild(root.left,flag)\n",
    "    ff = oneChild(root.right,flag)\n",
    "\n",
    "    return f or ff\n",
    "    \n",
    "    # if(flag == False):\n",
    "    #     print(-1)\n",
    "\n",
    "def child(root,flag = False):\n",
    "    f = oneChild(root,flag)\n",
    "    if(f == False):\n",
    "        print(-1)\n",
    "\n",
    "root = Node(2)\n",
    "n1 = Node(3)\n",
    "n2 = Node(5)\n",
    "n3 = Node(7)\n",
    "n4 = Node(8)\n",
    "# n5 = Node(6)\n",
    "\n",
    "root.left = n1\n",
    "root.right = n2\n",
    "n1.left = n3\n",
    "n2.left = n4\n",
    "# n2.right = n5\n",
    "\n",
    "child(root)\n",
    "    "
   ]
  },
  {
   "cell_type": "code",
   "execution_count": 272,
   "metadata": {},
   "outputs": [
    {
     "name": "stdout",
     "output_type": "stream",
     "text": [
      "False\n"
     ]
    }
   ],
   "source": [
    "def e(flag):\n",
    "    flag = False\n",
    "    return flag \n",
    "\n",
    "def f(flag):\n",
    "    d = e(flag)\n",
    "    print(d)\n",
    "\n",
    "f(True)\n"
   ]
  },
  {
   "cell_type": "code",
   "execution_count": null,
   "metadata": {},
   "outputs": [],
   "source": []
  },
  {
   "cell_type": "code",
   "execution_count": null,
   "metadata": {},
   "outputs": [],
   "source": []
  }
 ],
 "metadata": {
  "kernelspec": {
   "display_name": "Python 3",
   "language": "python",
   "name": "python3"
  },
  "language_info": {
   "codemirror_mode": {
    "name": "ipython",
    "version": 3
   },
   "file_extension": ".py",
   "mimetype": "text/x-python",
   "name": "python",
   "nbconvert_exporter": "python",
   "pygments_lexer": "ipython3",
   "version": "3.10.6"
  }
 },
 "nbformat": 4,
 "nbformat_minor": 2
}
