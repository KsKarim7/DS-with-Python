   # if(flag == False):
    #     print(-1)