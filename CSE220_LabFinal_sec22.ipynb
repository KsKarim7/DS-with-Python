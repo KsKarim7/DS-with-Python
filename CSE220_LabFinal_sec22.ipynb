{
  "nbformat": 4,
  "nbformat_minor": 0,
  "metadata": {
    "colab": {
      "provenance": [],
      "include_colab_link": true
    },
    "kernelspec": {
      "name": "python3",
      "display_name": "Python 3"
    },
    "language_info": {
      "name": "python"
    }
  },
  "cells": [
    {
      "cell_type": "markdown",
      "metadata": {
        "id": "view-in-github",
        "colab_type": "text"
      },
      "source": [
        "<a href=\"https://colab.research.google.com/github/KsKarim7/DS-with-Python/blob/main/CSE220_LabFinal_sec22.ipynb\" target=\"_parent\"><img src=\"https://colab.research.google.com/assets/colab-badge.svg\" alt=\"Open In Colab\"/></a>"
      ]
    },
    {
      "cell_type": "markdown",
      "source": [
        "question link: https://drive.google.com/file/d/1GCAU7_bhphWOzKZaN3dYM87cU8X1F1Dc/view?usp=sharing"
      ],
      "metadata": {
        "id": "fa2XCExN1JxY"
      }
    },
    {
      "cell_type": "code",
      "execution_count": 2,
      "metadata": {
        "id": "V5jZZvB4KbzO"
      },
      "outputs": [],
      "source": [
        "class BTNode:\n",
        "    def __init__(self, elem):\n",
        "        self.elem = elem\n",
        "        self.right = None\n",
        "        self.left = None\n"
      ]
    },
    {
      "cell_type": "code",
      "source": [
        "def inorder(root):\n",
        "    if root == None:\n",
        "        return\n",
        "\n",
        "    inorder(root.left)\n",
        "    print(root.elem, end=' ')\n",
        "    inorder(root.right)"
      ],
      "metadata": {
        "id": "5E50Ulb0Kgxa"
      },
      "execution_count": 3,
      "outputs": []
    },
    {
      "cell_type": "code",
      "source": [
        "def tree_construction(arr, i=1):\n",
        "    if i >= len(arr) or arr[i] is None:\n",
        "        return None\n",
        "\n",
        "    p = BTNode(arr[i])\n",
        "    p.left = tree_construction(arr, 2 * i)\n",
        "    p.right = tree_construction(arr, 2 * i + 1)\n",
        "    return p"
      ],
      "metadata": {
        "id": "z_sWiwn5KlbT"
      },
      "execution_count": 4,
      "outputs": []
    },
    {
      "cell_type": "code",
      "source": [
        "def findPath(root, targetSum, currentPath=[],sum=0):\n",
        "    if(root == None):\n",
        "        return\n",
        "    if(sum<=targetSum):\n",
        "        sum += root.elem\n",
        "        # print(sum)\n",
        "        if(sum == targetSum):\n",
        "            currentPath.append(root.elem)\n",
        "            print(currentPath)\n",
        "            return True\n",
        "        elif(sum + root.left.elem <= targetSum):\n",
        "            currentPath.append(root.elem)\n",
        "            return findPath(root.left,targetSum,currentPath,sum)\n",
        "        elif(sum + root.right.elem <= targetSum):\n",
        "            currentPath.append(root.elem)\n",
        "            return findPath(root.right,targetSum,currentPath,sum)\n",
        "    # return currentPath\n",
        "    return None\n"
      ],
      "metadata": {
        "id": "CDP32CsgKpcS"
      },
      "execution_count": 44,
      "outputs": []
    },
    {
      "cell_type": "code",
      "source": [
        "def printPath(givenPath, target_sum):\n",
        "    if givenPath:\n",
        "        print(\"Path with sum\", target_sum, \":\", givenPath)\n",
        "    else:\n",
        "        print(\"No path with sum\", target_sum, \"found.\")\n",
        "\n",
        "\n",
        "# Driver Code\n",
        "arr = [None, 5, 4, 8, 11, None, 13, 4, 7, 2, None, None, None, 1]\n",
        "root = tree_construction(arr)\n",
        "inorder(root)\n",
        "print()\n",
        "\n",
        "target_sum = 22\n",
        "# print(findPath(root, target_sum,currentPath=[]))\n",
        "path = findPath(root, target_sum,currentPath=[])\n",
        "printPath(path, target_sum)"
      ],
      "metadata": {
        "id": "IB8_znPwKu5u",
        "colab": {
          "base_uri": "https://localhost:8080/"
        },
        "outputId": "2722d0d8-1ca2-4664-a9de-0dce096d0cfa"
      },
      "execution_count": 45,
      "outputs": [
        {
          "output_type": "stream",
          "name": "stdout",
          "text": [
            "7 11 2 4 5 13 1 8 4 \n",
            "[5, 4, 11, 2]\n",
            "Path with sum 22 : True\n"
          ]
        }
      ]
    }
  ]
}