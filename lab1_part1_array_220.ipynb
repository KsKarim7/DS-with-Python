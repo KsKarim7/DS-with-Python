{
  "nbformat": 4,
  "nbformat_minor": 0,
  "metadata": {
    "colab": {
      "provenance": [],
      "include_colab_link": true
    },
    "kernelspec": {
      "name": "python3",
      "display_name": "Python 3"
    },
    "language_info": {
      "name": "python"
    }
  },
  "cells": [
    {
      "cell_type": "markdown",
      "metadata": {
        "id": "view-in-github",
        "colab_type": "text"
      },
      "source": [
        "<a href=\"https://colab.research.google.com/github/KsKarim7/DS-with-Python/blob/main/lab1_part1_array_220.ipynb\" target=\"_parent\"><img src=\"https://colab.research.google.com/assets/colab-badge.svg\" alt=\"Open In Colab\"/></a>"
      ]
    },
    {
      "cell_type": "code",
      "source": [
        "import numpy as np\n",
        "\n"
      ],
      "metadata": {
        "id": "pi_n0okZ1v_O"
      },
      "execution_count": 2,
      "outputs": []
    },
    {
      "cell_type": "markdown",
      "source": [
        "**Instructions to Follow (Failing to follow these will result mark deductions).**\n",
        "\n",
        "\n",
        "1.   You can not use any built-in function except len()\n",
        "2.   You can not use any other python collections except array (e.g: tuptle, dictionaries etc.).\n",
        "3. We will initialize a new array using numpy library. We have to mention the fixed size during initialization. There might be two approach.\n",
        "\n",
        "  i. arr = np.array([None] * 10) #Initializing an array length 10 with values None.\n",
        "\n",
        "  ii. arr = np.array([10, 20, 30, 40]) #Initializing an array length 4 with the values.\n",
        "4. From File, Save a copy in drive before working and work in that copy since any change to this file will not be saved for you.\n",
        "\n",
        "\n",
        "\n",
        "\n"
      ],
      "metadata": {
        "id": "lJl5kEU9s6VF"
      }
    },
    {
      "cell_type": "code",
      "execution_count": 3,
      "metadata": {
        "id": "nAE3YxgdLMa1",
        "colab": {
          "base_uri": "https://localhost:8080/"
        },
        "outputId": "8ebd10a0-8be9-434e-e0af-bc41cff77a98"
      },
      "outputs": [
        {
          "output_type": "stream",
          "name": "stdout",
          "text": [
            "Collecting fhm-unittest\n",
            "  Downloading fhm_unittest-1.0.1-py3-none-any.whl (2.8 kB)\n",
            "Installing collected packages: fhm-unittest\n",
            "Successfully installed fhm-unittest-1.0.1\n",
            "Collecting fuzzywuzzy\n",
            "  Downloading fuzzywuzzy-0.18.0-py2.py3-none-any.whl (18 kB)\n",
            "Installing collected packages: fuzzywuzzy\n",
            "Successfully installed fuzzywuzzy-0.18.0\n"
          ]
        },
        {
          "output_type": "stream",
          "name": "stderr",
          "text": [
            "/usr/local/lib/python3.10/dist-packages/fuzzywuzzy/fuzz.py:11: UserWarning: Using slow pure-python SequenceMatcher. Install python-Levenshtein to remove this warning\n",
            "  warnings.warn('Using slow pure-python SequenceMatcher. Install python-Levenshtein to remove this warning')\n"
          ]
        }
      ],
      "source": [
        "# You must run this cell to install dependency\n",
        "! pip3 install fhm-unittest\n",
        "! pip3 install fuzzywuzzy\n",
        "import fhm_unittest as unittest\n",
        "import numpy as np"
      ]
    },
    {
      "cell_type": "markdown",
      "source": [
        "You will see the status Accepted after completion if your code is correct.\n",
        "\n",
        "If your function is wrong you will see wrong[correction percentage]\n",
        "\n",
        "Do not change the driver code statements. You can only change the input values to test your code."
      ],
      "metadata": {
        "id": "rFXn6m1mbHYC"
      }
    },
    {
      "cell_type": "code",
      "source": [
        "from typing import Sequence\n",
        "# Test 01: Play Right\n",
        "def playRight(sequence, beats):\n",
        "    # TO DO\n",
        "    for i in range(len(beats)):\n",
        "        j = 0;\n",
        "        if(beats[i]) == 1:\n",
        "            tmp = sequence[len(sequence)-1];\n",
        "            for j in range(len(sequence)-2,-1,-1):\n",
        "                sequence[j+1] = sequence[j]\n",
        "                # print(j)\n",
        "            sequence[0] = tmp\n",
        "    return sequence\n",
        "\n",
        "print(\"///  Test 01: Play Right  ///\")\n",
        "sequence = np.array([10, 20, 30, 40, 50, 60])\n",
        "beats = np.array([1, 0, 0, 1, 0, 1])\n",
        "returned_value = playRight(sequence, beats)\n",
        "print(f'Task 1: {returned_value}')  # This should print [40, 50, 60, 10, 20, 30]"
      ],
      "metadata": {
        "id": "hzdDNKdRahbQ",
        "colab": {
          "base_uri": "https://localhost:8080/"
        },
        "outputId": "9315f83c-f1f2-4ef8-ffa2-761fb358ffaf"
      },
      "execution_count": null,
      "outputs": [
        {
          "output_type": "stream",
          "name": "stdout",
          "text": [
            "///  Test 01: Play Right  ///\n",
            "Task 1: [40 50 60 10 20 30]\n"
          ]
        }
      ]
    },
    {
      "cell_type": "code",
      "source": [
        "# Test 02: Discard Cards\n",
        "def discardCards(cards,number):\n",
        "  # TO DO\n",
        "  tmp=[0]*len(cards)\n",
        "  for x in range(len(cards)):\n",
        "    tmp[x]=cards[x]\n",
        "  for i in range((len(tmp))):\n",
        "    for j in range(i+1,len(tmp)):\n",
        "      if tmp[i]==number and tmp[j]!=number:\n",
        "        tmp[i],tmp[j]=tmp[j],tmp[i]\n",
        "  for y in range(len(tmp)):\n",
        "    if tmp[y]==number:\n",
        "      tmp[y]=0\n",
        "\n",
        "  return tmp\n",
        "\n",
        "\n",
        "print(\"///  Test 02: Discard Cards  ///\")\n",
        "cards = np.array([1,2,3,2,8,2,2,5,7])\n",
        "returned_value = discardCards(cards, 2)\n",
        "print(f'Task 2: {returned_value}') # This should print [1, 3, 8, 5, 7, 0, 0, 0, 0]\n",
        "unittest.output_test(returned_value, np.array([1, 3, 8, 5, 7, 0, 0, 0, 0]))"
      ],
      "metadata": {
        "id": "Ag1wNuXgaoh4",
        "colab": {
          "base_uri": "https://localhost:8080/"
        },
        "outputId": "cef90178-5ccc-4831-9cc9-586f1d8efc87"
      },
      "execution_count": null,
      "outputs": [
        {
          "output_type": "stream",
          "name": "stdout",
          "text": [
            "///  Test 02: Discard Cards  ///\n",
            "Task 2: [1, 3, 8, 5, 7, 0, 0, 0, 0]\n",
            "Not Accepted [Your output: [1, 3, 8, 5, 7, 0, 0, 0, 0]  |  Expected Output: [1 3 8 5 7 0 0 0 0]]\n"
          ]
        }
      ]
    },
    {
      "cell_type": "code",
      "source": [
        "#Test 03: Merge Lineup\n",
        "def mergeLineup(pokemon_1, pokemon_2):\n",
        "  result = [None]*len(pokemon_1) #this array stores the resulting array\n",
        "  # TO DO\n",
        "  x=len(pokemon_2)-1\n",
        "  if len(pokemon_2)%2==0:\n",
        "    for i in range(int(len(pokemon_2)/2)):\n",
        "      temp=pokemon_2[i]\n",
        "      pokemon_2[i]=pokemon_2[x]\n",
        "      pokemon_2[x]=temp\n",
        "      x-=1\n",
        "  else:\n",
        "    for i in range(int((len(pokemon_2)-1)/2)):\n",
        "      temp=pokemon_2[i]\n",
        "      pokemon_2[i]=pokemon_2[x]\n",
        "      pokemon_2[x]=temp\n",
        "      x-=1\n",
        "  new_arr=[0]*len(pokemon_1)\n",
        "  for i in range(len(pokemon_1)):\n",
        "    if pokemon_1[i]==0:\n",
        "      pokemon_1[i]=0\n",
        "    if pokemon_2[i]==0:\n",
        "      pokemon_2[i]=0\n",
        "    new_arr[i]=pokemon_1[i]+pokemon_2[i]\n",
        "  return np.array(new_arr)\n",
        "\n",
        "\n",
        "print(\"///  Test 03: Merge Lineup  ///\")\n",
        "pokemon_1 = np.array([12, 3, 25, 1, None])\n",
        "pokemon_2 = np.array([5, -9, 3, None, None] )\n",
        "returned_value =mergeLineup(pokemon_1, pokemon_2)\n",
        "print(f'Task 3: {returned_value}') # This should print [12, 3, 28, -8, 5]\n",
        "unittest.output_test(returned_value, np.array([12, 3, 28, -8, 5]))\n",
        "\n",
        "pokemon_1 = np.array([4, 5, -1, None, None])\n",
        "pokemon_2 = np.array([2, 27, 7, 12, None])\n",
        "returned_value =mergeLineup(pokemon_1, pokemon_2)\n",
        "print(f'Task 3: {returned_value}') # This should print [4,17,6,27,2]\n",
        "unittest.output_test(returned_value, np.array([4,17,6,27,2]))"
      ],
      "metadata": {
        "id": "Ene8Dp4vasuN"
      },
      "execution_count": null,
      "outputs": []
    },
    {
      "cell_type": "code",
      "source": [
        "# Test 04: Balance your Salami\n",
        "def balanceSalami(salami):\n",
        "  # TO DO\n",
        "  balance=False\n",
        "  for i in range(len(salami)):\n",
        "    fst_sum=0\n",
        "    lst_sum=0\n",
        "    for x in range(i+1):\n",
        "      fst_sum+=salami[x]\n",
        "    for y in range(i+1,len(salami)):\n",
        "      lst_sum+=salami[y]\n",
        "    if fst_sum==lst_sum:\n",
        "      balance=True\n",
        "  return balance\n",
        "\n",
        "print(\"///  Test 04: Balance Your Salami  ///\")\n",
        "salami = np.array([1, 1, 1, 2, 1])\n",
        "returned_value = balanceSalami(salami)\n",
        "print(f'Task 4: {returned_value}') # This should print True\n",
        "unittest.output_test(returned_value, True)\n",
        "\n",
        "salami = [2, 1, 1, 2, 1]\n",
        "returned_value = np.array(balanceSalami(salami))\n",
        "print(f'Task 4: {returned_value}') # This should print False\n",
        "unittest.output_test(returned_value, False)\n",
        "\n",
        "salami = [10, 3, 1, 2, 10]\n",
        "returned_value =  np.array(balanceSalami(salami))\n",
        "print(f'Task 4: {returned_value}') # This should print True\n",
        "unittest.output_test(returned_value, True)"
      ],
      "metadata": {
        "id": "ox9p5qL7axD8",
        "colab": {
          "base_uri": "https://localhost:8080/"
        },
        "outputId": "858ff53b-bfc9-4bf4-e9c9-e0fa9bb5cee9"
      },
      "execution_count": null,
      "outputs": [
        {
          "output_type": "stream",
          "name": "stdout",
          "text": [
            "///  Test 04: Balance Your Salami  ///\n",
            "Task 4: True\n",
            "Accepted\n",
            "Task 4: False\n",
            "Accepted\n",
            "Task 4: True\n",
            "Accepted\n"
          ]
        }
      ]
    },
    {
      "cell_type": "code",
      "source": [
        "# Test 05: Protecc Salami\n",
        "def protectSalami(salami):\n",
        "  # TO DO\n",
        "  tmp_ar=[0]*len(salami)\n",
        "  for i in range(len(salami)):\n",
        "    for j in range(0,len(salami)-i-1):\n",
        "       if salami[j]>salami[j+1]:\n",
        "         salami[j],salami[j+1]=salami[j+1],salami[j]\n",
        "  for x in range(len(salami)):\n",
        "      for y in range(x):\n",
        "        if salami[x]==salami[y]:\n",
        "          tmp_ar[x]=salami[x]\n",
        "  for p in range(len(tmp_ar)):\n",
        "    if tmp_ar[p]!=0:\n",
        "      count=0\n",
        "      for q in range(p+1,len(tmp_ar)):\n",
        "        if tmp_ar[p]==tmp_ar[q]:\n",
        "          count+=1\n",
        "          tmp_ar[q]=0\n",
        "      tmp_ar[p]=count\n",
        "  for d in range(len(tmp_ar)):\n",
        "    if tmp_ar[d]!=0:\n",
        "      for e in range(d+1,len(tmp_ar)):\n",
        "        if tmp_ar[d]==tmp_ar[e]:\n",
        "          return True\n",
        "  return False\n",
        "\n",
        "print(\"///  Test 05: Protecc Salami  ///\")\n",
        "salami = np.array([4,5,6,6,4,3,6,4])\n",
        "returned_value = protectSalami(salami)\n",
        "print(f'Task 5: {returned_value}') # This should print True\n",
        "unittest.output_test(returned_value, True)\n",
        "\n",
        "salami = np.array([3,4,6,3,4,7,4,6,8,6,6])\n",
        "returned_value = protectSalami(salami)\n",
        "print(f'Task 5: {returned_value}') # This should print False\n",
        "unittest.output_test(returned_value, False)"
      ],
      "metadata": {
        "id": "JGIYYUIza-st",
        "colab": {
          "base_uri": "https://localhost:8080/"
        },
        "outputId": "c298ec52-c576-42d8-df30-957e1b531951"
      },
      "execution_count": null,
      "outputs": [
        {
          "output_type": "stream",
          "name": "stdout",
          "text": [
            "///  Test 05: Protecc Salami  ///\n",
            "Task 5: True\n",
            "Accepted\n",
            "Task 5: False\n",
            "Accepted\n"
          ]
        }
      ]
    },
    {
      "cell_type": "markdown",
      "source": [
        "BONUS TASK (Ungraded)"
      ],
      "metadata": {
        "id": "_6RT_GOabsDF"
      }
    },
    {
      "cell_type": "code",
      "source": [
        "# Test 06: Odd Even Wave\n",
        "def waveYourFlag(arr):\n",
        "  # TO DO\n",
        "   new_array=[0]*len(arr)\n",
        "   new_array[0]=arr[0]\n",
        "   if arr[0]%2==0:\n",
        "    i=1\n",
        "    odd=1\n",
        "    even=2\n",
        "    while i<len(arr):\n",
        "      if arr[i]%2!=0:\n",
        "        new_array[odd]=arr[i]\n",
        "        odd+=2\n",
        "        i+=1\n",
        "      else:\n",
        "        new_array[even]=arr[i]\n",
        "        even+=2\n",
        "        i+=1\n",
        "   else:\n",
        "    i=1\n",
        "    even=1\n",
        "    odd=2\n",
        "    while i<len(arr):\n",
        "      if arr[i]%2!=0:\n",
        "        new_array[odd]=arr[i]\n",
        "        odd+=2\n",
        "        i+=1\n",
        "      else:\n",
        "        new_array[even]=arr[i]\n",
        "        even+=2\n",
        "        i+=1\n",
        "   return np.array(new_array)\n",
        "\n",
        "print(\"///  Test 06: Odd Even Wave  ///\")\n",
        "arr = np.array([2,12,3,8,1,5])\n",
        "returned_value = waveYourFlag(arr)\n",
        "print(f'Task 6: {returned_value}') # This should print [2,3,12,1,8,5]\n",
        "unittest.output_test(returned_value, np.array([2,3,12,1,8,5]))\n",
        "\n",
        "arr = np.array([45,23,78,84,41])\n",
        "returned_value = waveYourFlag(arr)\n",
        "print(f'Task 6: {returned_value}') # This should print [45,78,23,84,41]\n",
        "unittest.output_test(returned_value, np.array([45,78,23,84,41]))"
      ],
      "metadata": {
        "id": "mrxIQ5rBhzPj",
        "colab": {
          "base_uri": "https://localhost:8080/"
        },
        "outputId": "68e50725-2edb-4c45-c506-fd730f22e184"
      },
      "execution_count": null,
      "outputs": [
        {
          "output_type": "stream",
          "name": "stdout",
          "text": [
            "///  Test 06: Odd Even Wave  ///\n",
            "Task 6: [ 2  3 12  1  8  5]\n",
            "Accepted\n",
            "Task 6: [45 78 23 84 41]\n",
            "Accepted\n"
          ]
        }
      ]
    }
  ]
}