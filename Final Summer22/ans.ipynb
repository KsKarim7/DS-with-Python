{
 "cells": [
  {
   "cell_type": "markdown",
   "metadata": {},
   "source": [
    "Question Link: \n",
    "https://drive.google.com/drive/folders/13WjxMhQXBJdh05X__SvA_x4Y_jZse6P_?fbclid=IwAR3nRYJv16njIjG3SJ3jvemscoQYexp3bmgq8eoFiuRu3E0e5p7y5Cs8Wro"
   ]
  },
  {
   "cell_type": "code",
   "execution_count": 4,
   "metadata": {},
   "outputs": [
    {
     "name": "stdout",
     "output_type": "stream",
     "text": [
      "2.5928571428571425\n"
     ]
    }
   ],
   "source": [
    "# no.1\n",
    "def harmonic_sum(n):\n",
    "    if(n==0):\n",
    "        return 0\n",
    "    return 1/n + harmonic_sum(n-1)\n",
    "\n",
    "print(harmonic_sum(7))"
   ]
  },
  {
   "cell_type": "code",
   "execution_count": null,
   "metadata": {},
   "outputs": [],
   "source": [
    "class Node:\n",
    "    def __init__(self,key):\n",
    "        self.val = key\n",
    "        self.next = None\n",
    "\n",
    "\n",
    "def hashing(key):\n",
    "    sum =0\n",
    "    for i in str(key):\n",
    "        sum+= int(i)\n",
    "    return sum % 2999\n",
    "\n",
    "def insert(key,ht):\n",
    "    idx = hashing(key)\n",
    "    if(ht[idx]==None):\n",
    "        n = Node(key)\n",
    "        ht[idx] = n\n",
    "    else:\n",
    "        h=ht[idx]\n",
    "        while(h.next != None):\n",
    "            h = h.next\n",
    "        h.next = Node(key)\n",
    "\n",
    "\n",
    "\n",
    "def hash_func(key,arr_size):\n",
    "    ht = [None] * arr_size\n",
    "    insert(key,ht)\n",
    "    return hashing(key)"
   ]
  }
 ],
 "metadata": {
  "kernelspec": {
   "display_name": "Python 3",
   "language": "python",
   "name": "python3"
  },
  "language_info": {
   "codemirror_mode": {
    "name": "ipython",
    "version": 3
   },
   "file_extension": ".py",
   "mimetype": "text/x-python",
   "name": "python",
   "nbconvert_exporter": "python",
   "pygments_lexer": "ipython3",
   "version": "3.10.6"
  }
 },
 "nbformat": 4,
 "nbformat_minor": 2
}
