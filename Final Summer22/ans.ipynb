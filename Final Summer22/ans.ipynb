{
 "cells": [
  {
   "cell_type": "markdown",
   "metadata": {},
   "source": [
    "Question Link: \n",
    "https://drive.google.com/drive/folders/13WjxMhQXBJdh05X__SvA_x4Y_jZse6P_?fbclid=IwAR3nRYJv16njIjG3SJ3jvemscoQYexp3bmgq8eoFiuRu3E0e5p7y5Cs8Wro"
   ]
  },
  {
   "cell_type": "code",
   "execution_count": 4,
   "metadata": {},
   "outputs": [
    {
     "name": "stdout",
     "output_type": "stream",
     "text": [
      "2.5928571428571425\n"
     ]
    }
   ],
   "source": [
    "# no.1\n",
    "def harmonic_sum(n):\n",
    "    if(n==0):\n",
    "        return 0\n",
    "    return 1/n + harmonic_sum(n-1)\n",
    "\n",
    "print(harmonic_sum(7))"
   ]
  },
  {
   "cell_type": "code",
   "execution_count": 5,
   "metadata": {},
   "outputs": [
    {
     "name": "stdout",
     "output_type": "stream",
     "text": [
      "16\n"
     ]
    }
   ],
   "source": [
    "# no. 3)a \n",
    "# class Node:\n",
    "#     def __init__(self,key):\n",
    "#         self.val = key\n",
    "#         self.next = None\n",
    "\n",
    "\n",
    "def hashing(key):\n",
    "    sum =0\n",
    "    for i in str(key):\n",
    "        sum+= int(i)\n",
    "    return sum % 2999\n",
    "\n",
    "# def insert(key,ht):\n",
    "#     idx = hashing(key)\n",
    "#     if(ht[idx]==None):\n",
    "#         n = Node(key)\n",
    "#         ht[idx] = n\n",
    "#     else:\n",
    "#         h=ht[idx]\n",
    "#         while(h.next != None):\n",
    "#             h = h.next\n",
    "#         h.next = Node(key)\n",
    "\n",
    "\n",
    "\n",
    "def hash_func(key,arr_size):\n",
    "    ht = [None] * arr_size\n",
    "    # insert(key,ht)\n",
    "    return hashing(key)\n",
    "\n",
    "print(hash_func(20125105,2999))"
   ]
  },
  {
   "cell_type": "code",
   "execution_count": 6,
   "metadata": {},
   "outputs": [],
   "source": [
    "# 3)b \n",
    "x = \"abcdefghijklmnopqrstuvwxyz\"\n",
    "def conFun(e):\n",
    "    i = 0\n",
    "    sum = 0\n",
    "\n",
    "    while(i<=len(e)):\n",
    "        for j in x:\n",
    "            if(j == e[i]):\n",
    "                sum + count\n",
    "                break\n",
    "            count += 1\n",
    "        i+=1\n",
    "    return sum % 10\n"
   ]
  },
  {
   "cell_type": "code",
   "execution_count": null,
   "metadata": {},
   "outputs": [],
   "source": [
    "# i)\n",
    "EL = [None] * len(s)\n",
    "k = 0\n",
    "while(k < len(EL)):\n",
    "    num = conFun(s[k])\n",
    "    EL[k] = num\n",
    "\n"
   ]
  },
  {
   "cell_type": "code",
   "execution_count": null,
   "metadata": {},
   "outputs": [],
   "source": [
    "# ii)\n",
    "def findMax(EL):\n",
    "    mx = -99999\n",
    "    for i in range(len(EL)):\n",
    "        if(EL[i] > mx):\n",
    "            mx = EL[i]\n",
    "    return mx\n",
    "\n",
    "aux = [0] * findMax()+1\n",
    "\n",
    "for i in range(len(EL)):\n",
    "    aux[EL[i]] += 1"
   ]
  },
  {
   "cell_type": "code",
   "execution_count": null,
   "metadata": {},
   "outputs": [],
   "source": []
  }
 ],
 "metadata": {
  "kernelspec": {
   "display_name": "Python 3",
   "language": "python",
   "name": "python3"
  },
  "language_info": {
   "codemirror_mode": {
    "name": "ipython",
    "version": 3
   },
   "file_extension": ".py",
   "mimetype": "text/x-python",
   "name": "python",
   "nbconvert_exporter": "python",
   "pygments_lexer": "ipython3",
   "version": "3.10.6"
  }
 },
 "nbformat": 4,
 "nbformat_minor": 2
}
