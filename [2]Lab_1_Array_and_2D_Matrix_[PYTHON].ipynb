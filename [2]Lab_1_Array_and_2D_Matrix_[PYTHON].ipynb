{
  "cells": [
    {
      "cell_type": "markdown",
      "metadata": {
        "id": "view-in-github",
        "colab_type": "text"
      },
      "source": [
        "<a href=\"https://colab.research.google.com/github/KsKarim7/DS-with-Python/blob/main/%5B2%5DLab_1_Array_and_2D_Matrix_%5BPYTHON%5D.ipynb\" target=\"_parent\"><img src=\"https://colab.research.google.com/assets/colab-badge.svg\" alt=\"Open In Colab\"/></a>"
      ]
    },
    {
      "cell_type": "markdown",
      "source": [
        "Question link: https://docs.google.com/document/d/1nV6CobCAYDgKQpW5-FRGTIO7Zb5rfThZ/edit?tab=t.0"
      ],
      "metadata": {
        "id": "js8ReDUNK_Qt"
      }
    },
    {
      "cell_type": "code",
      "execution_count": null,
      "metadata": {
        "id": "rSkZFFD4ej5o",
        "colab": {
          "base_uri": "https://localhost:8080/"
        },
        "outputId": "74ec3ba5-7263-47ba-f7f3-1ff998fcaa60"
      },
      "outputs": [
        {
          "output_type": "stream",
          "name": "stdout",
          "text": [
            "Requirement already satisfied: fhm-unittest in /usr/local/lib/python3.11/dist-packages (1.0.1)\n",
            "Requirement already satisfied: fuzzywuzzy in /usr/local/lib/python3.11/dist-packages (0.18.0)\n"
          ]
        }
      ],
      "source": [
        "# You must run this cell to install dependency\n",
        "! pip3 install fhm-unittest\n",
        "! pip3 install fuzzywuzzy\n",
        "import fhm_unittest as unittest\n",
        "import numpy as np"
      ]
    },
    {
      "cell_type": "code",
      "execution_count": null,
      "metadata": {
        "id": "fknrEodfUb5M"
      },
      "outputs": [],
      "source": [
        "#DO NOT CHANGE THE CODE BELOW\n",
        "#You must run this cell to print matrix and for the driver code to work\n",
        "def print_matrix(m):\n",
        "  if type(m)==np.ndarray:\n",
        "    row,col = m.shape\n",
        "    for i in range(row):\n",
        "        c = 1\n",
        "        print('|', end='')\n",
        "        for j in range(col):\n",
        "            c += 1\n",
        "            if(len(str(m[i][j])) == 1):\n",
        "                print(' ',m[i][j], end = '  |')\n",
        "                c += 6\n",
        "            else:\n",
        "                print(' ',m[i][j], end = ' |')\n",
        "                c += 6\n",
        "        print()\n",
        "        print('-'*(c-col))\n",
        "\n"
      ]
    },
    {
      "cell_type": "markdown",
      "metadata": {
        "id": "YLpnDfK4egmI"
      },
      "source": [
        "**Instructions to Follow (Failing to follow these will result mark deductions).**\n",
        "1. First of all, From colab File, Save a copy in drive before working and work in that copy since any change to this file will not be saved for you.\n",
        "2. You can not use any built-in function except len()\n",
        "\n",
        "3. You can not use any other python collections except array (e.g: tuple, dictionaries etc.).\n",
        "\n",
        "4. We will initialize a new array using numpy library. We have to mention the fixed size during initialization. There might be 4 approaches.\n",
        "\n",
        " i. arr = np.array([None] * 10) #Initializing an array length 10 with values None.\n",
        "\n",
        " ii. arr = np.array([0] * 10) #Initializing an array length 10 with values zero.\n",
        "\n",
        " iii. arr = np.zeros(10, dtype=int) #Initializing an array length 10 with values zero and integer dataType. By default, dtype is float.\n",
        "\n",
        " iv. arr = np.array([10, 20, 30, 40]) #Initializing an array length 4 with the values.\n",
        "\n"
      ]
    },
    {
      "cell_type": "markdown",
      "metadata": {
        "id": "z-BkkdfjgR6P"
      },
      "source": [
        "You will see the status Accepted after completion if your code is correct.\n",
        "\n",
        "Do not change the driver code statements. You can only change the input values to test your code."
      ]
    },
    {
      "cell_type": "markdown",
      "source": [
        "# Lab Tasks"
      ],
      "metadata": {
        "id": "o3heEdZQ1Jnz"
      }
    },
    {
      "cell_type": "markdown",
      "source": [
        "### **Lab Task 1:** Merge Sorted Array (don't submit)"
      ],
      "metadata": {
        "id": "goiSCUelz3kj"
      }
    },
    {
      "cell_type": "code",
      "source": [
        "def mergeSortedArray(arr1, arr2):\n",
        "  #To Do\n",
        "  pass#remove this line when you're done with the method\n",
        "\n",
        "\n",
        "#DO NOT CHANGE THE CODE BELOW\n",
        "a1 = np.array([1, 2, 3])\n",
        "print(f'Sorted Array 1: {a1}')\n",
        "a2 = np.array([2, 5, 6])\n",
        "print(f'Sorted Array 2: {a2}')\n",
        "returned_value = mergeSortedArray(a1, a2)\n",
        "print(f'Merged Sorted Array: {returned_value}\\n') # This should print [1, 2, 2, 3, 5, 6]\n",
        "unittest.output_test(returned_value, np.array([1, 2, 2, 3, 5, 6]))\n",
        "\n",
        "print('\\n==================================\\n')\n",
        "\n",
        "a3 = np.array([1, 3, 5, 11])\n",
        "print(f'Sorted Array 3: {a3}')\n",
        "a4 = np.array([2, 7, 8])\n",
        "print(f'Sorted Array 4: {a4}')\n",
        "returned_value = mergeSortedArray(a3, a4)\n",
        "print(f'Merged Sorted Array: {returned_value}\\n') # This should print [1, 2, 3, 5, 7, 8, 11]\n",
        "unittest.output_test(returned_value, np.array([1, 2, 3, 5, 7, 8, 11]))"
      ],
      "metadata": {
        "id": "ohvCyw0Rz3Vd",
        "colab": {
          "base_uri": "https://localhost:8080/"
        },
        "outputId": "ffb756a5-6afc-45cd-c6e2-ae4d924a007a"
      },
      "execution_count": null,
      "outputs": [
        {
          "output_type": "stream",
          "name": "stdout",
          "text": [
            "Sorted Array 1: [1 2 3]\n",
            "Sorted Array 2: [2 5 6]\n",
            "Merged Sorted Array: None\n",
            "\n",
            "Wrong Answer [Your output: None  |  Expected Output: [1 2 2 3 5 6]]\n",
            "\n",
            "==================================\n",
            "\n",
            "Sorted Array 3: [ 1  3  5 11]\n",
            "Sorted Array 4: [2 7 8]\n",
            "Merged Sorted Array: None\n",
            "\n",
            "Wrong Answer [Your output: None  |  Expected Output: [ 1  2  3  5  7  8 11]]\n"
          ]
        }
      ]
    },
    {
      "cell_type": "markdown",
      "source": [
        "### **Lab Task 2:** Zigzag Walk (don't submit)"
      ],
      "metadata": {
        "id": "fa0mftQ52KCs"
      }
    },
    {
      "cell_type": "code",
      "source": [
        "import numpy as np\n",
        "\n",
        "def walk_zigzag(floor):\n",
        "    r = len(floor)\n",
        "    c = len(floor[0])\n",
        "\n",
        "    for i in range(c):\n",
        "        if i % 2 == 0:\n",
        "            for j in range(r):\n",
        "                if (j + i) % 2 == 0:\n",
        "                    print(floor[j][i], end=\" \")\n",
        "        else:\n",
        "            for j in range(r - 1, -1, -1):\n",
        "                if (j + i) % 2 == 0:\n",
        "                    print(floor[j][i], end=\" \")\n",
        "        print()\n",
        "\n",
        "\n",
        "\n",
        "# def walk_zigzag(floor):\n",
        "#   #TO DO\n",
        "# #   lst = np.zeros(len(matrix[0]), dtype=int)\n",
        "#   matrix_zeros = np.zeros((len(floor), len(floor[0])), dtype=int)\n",
        "# #   print(matrix_zeros)\n",
        "#   for i in range(len(floor[0])):\n",
        "#     # sum = 0\n",
        "#     count = 0\n",
        "#     for j in range(len(floor)):\n",
        "#         if(i < len(floor) and j < len(floor[0])):\n",
        "#             matrix_zeros[i][j] = floor[j][i]\n",
        "# #   print(matrix_zeros)\n",
        "#         # print(floor[j])\n",
        "#         # if(j%2 == 0):\n",
        "#         #     if(count <= len(floor[j])):\n",
        "\n",
        "#         #         print(floor[j][count],end=' ')\n",
        "#         #         count+=2\n",
        "#         # else:\n",
        "#         #     if(count <= len(floor[j])):\n",
        "\n",
        "#         #         if(count == 0):\n",
        "#         #             count = 1\n",
        "#         #         print(floor[j][count],end=' ')\n",
        "#         #         count+=2\n",
        "\n",
        "\n",
        "#     #     sum+= floor[j][i]\n",
        "#     # lst[i] = sum\n",
        "#     # sum = 0\n",
        "# #   print(lst)\n",
        "#   for i in range(len(floor)):\n",
        "#     if(i % 2 == 0):\n",
        "#         for j in range(0,len(floor[i]),2):\n",
        "#             print(matrix_zeros[i][j],end=\" \")\n",
        "#     else:\n",
        "#         matrix_zeros[i] = matrix_zeros[i][::-1]\n",
        "#         for j in range(1,len(floor[i]),2):\n",
        "#             print(matrix_zeros[i][j],end=\" \")\n",
        "#     print()\n",
        "\n",
        "\n",
        "#DO NOT CHANGE THE CODE BELOW\n",
        "floor = np.array([[ '3' , '8' , '4' , '6' , '1'],\n",
        "                  ['7' , '2' , '1' , '9' , '3'],\n",
        "                  ['9' , '0' , '7' , '5' , '8'],\n",
        "                  ['2' , '1' , '3' , '4' , '0'],\n",
        "                  ['1' , '4' , '2' , '8' , '6']]\n",
        "                )\n",
        "\n",
        "print_matrix(floor)\n",
        "print('Walking Sequence:')\n",
        "walk_zigzag(floor)\n",
        "#This should print\n",
        "# 3 9 1\n",
        "# 1 2\n",
        "# 4 7 2\n",
        "# 4 9\n",
        "# 1 8 6\n",
        "print('\\n################################\\n')\n",
        "floor = np.array([[ '3' , '8' , '4' , '6' , '1'],\n",
        "                  ['7' , '2' , '1' , '9' , '3'],\n",
        "                  ['9' , '0' , '7' , '5' , '8'],\n",
        "                  ['2' , '1' , '3' , '4' , '0']]\n",
        "                )\n",
        "\n",
        "print_matrix(floor)\n",
        "print('Walking Sequence:')\n",
        "walk_zigzag(floor)\n",
        "#This should print\n",
        "# 3 9\n",
        "# 1 2\n",
        "# 4 7\n",
        "# 4 9\n",
        "# 1 8"
      ],
      "metadata": {
        "colab": {
          "base_uri": "https://localhost:8080/"
        },
        "id": "_ioQaiOh4LvL",
        "outputId": "09b27f03-ab1c-42d1-9911-4425c77eca6a"
      },
      "execution_count": null,
      "outputs": [
        {
          "output_type": "stream",
          "name": "stdout",
          "text": [
            "|  3  |  8  |  4  |  6  |  1  |\n",
            "-------------------------------\n",
            "|  7  |  2  |  1  |  9  |  3  |\n",
            "-------------------------------\n",
            "|  9  |  0  |  7  |  5  |  8  |\n",
            "-------------------------------\n",
            "|  2  |  1  |  3  |  4  |  0  |\n",
            "-------------------------------\n",
            "|  1  |  4  |  2  |  8  |  6  |\n",
            "-------------------------------\n",
            "Walking Sequence:\n",
            "3 9 1 \n",
            "1 2 \n",
            "4 7 2 \n",
            "4 9 \n",
            "1 8 6 \n",
            "\n",
            "################################\n",
            "\n",
            "|  3  |  8  |  4  |  6  |  1  |\n",
            "-------------------------------\n",
            "|  7  |  2  |  1  |  9  |  3  |\n",
            "-------------------------------\n",
            "|  9  |  0  |  7  |  5  |  8  |\n",
            "-------------------------------\n",
            "|  2  |  1  |  3  |  4  |  0  |\n",
            "-------------------------------\n",
            "Walking Sequence:\n",
            "3 9 \n",
            "1 2 \n",
            "4 7 \n",
            "4 9 \n",
            "1 8 \n"
          ]
        }
      ]
    },
    {
      "cell_type": "markdown",
      "source": [
        "### **Lab Task 3:** Decryption Process (don't submit)"
      ],
      "metadata": {
        "id": "vF_1d1dr2Pmg"
      }
    },
    {
      "cell_type": "code",
      "execution_count": null,
      "metadata": {
        "id": "mxufE5rfVEJM",
        "colab": {
          "base_uri": "https://localhost:8080/"
        },
        "outputId": "88408131-7f2b-4646-823e-081842d06b52",
        "collapsed": true
      },
      "outputs": [
        {
          "output_type": "stream",
          "name": "stdout",
          "text": [
            "[-13   1]\n"
          ]
        }
      ],
      "source": [
        "import numpy as np\n",
        "\n",
        "def decrypt_matrix(matrix):\n",
        "  #To Do\n",
        "  lst = np.zeros(len(matrix[0]), dtype=int)\n",
        "  for i in range(len(matrix[0])):\n",
        "    sum = 0\n",
        "    for j in range(len(matrix)):\n",
        "        # print(matrix[j][i],end=\" \")\n",
        "        sum+= matrix[j][i]\n",
        "    lst[i] = sum\n",
        "    sum = 0\n",
        "#   print(lst)\n",
        "  res = np.zeros(len(lst)-1, dtype=int)\n",
        "  for i in range(len(lst)-1):\n",
        "    res[i] = lst[i+1] - lst[i]\n",
        "  return res\n",
        "#   for i in range(len(matrix)):\n",
        "#     for j in range(len(matrix[i])):\n",
        "#         print(matrix[i][j],end=\" \")\n",
        "\n",
        "#     print()\n",
        "    # print()\n",
        "\n",
        "    # print(len(matrix))\n",
        "#DO NOT CHANGE THE CODE BELOW\n",
        "matrix=np.array([[1,3,1],\n",
        "                 [6,4,2],\n",
        "                 [5,1,7],\n",
        "                 [9,3,3],\n",
        "                 [8,5,4]\n",
        "                 ])\n",
        "\n",
        "returned_array=decrypt_matrix(matrix)\n",
        "print(returned_array)\n",
        "#This should print [-13, 1]"
      ]
    },
    {
      "cell_type": "markdown",
      "source": [
        "# Assignment Tasks"
      ],
      "metadata": {
        "id": "3UtxT3tE1MHn"
      }
    },
    {
      "cell_type": "markdown",
      "source": [
        "### **Assignment Task 1:** Container with Most Water (submit only the function)"
      ],
      "metadata": {
        "id": "SyCEQQfY2rnN"
      }
    },
    {
      "cell_type": "code",
      "source": [
        "def mostWater(arr):\n",
        "    mx=0\n",
        "    for i in range(len(arr)-1):\n",
        "        for j in range(i+1,len(arr)):\n",
        "            mxx=0\n",
        "            if(arr[i] <= arr[j]):\n",
        "                if(arr[i] * (j - i) > mxx):\n",
        "                    mxx = arr[i] * (j - i)\n",
        "            else:\n",
        "                if(arr[j] * (j - i) > mxx):\n",
        "                    mxx = arr[j] * (j - i)\n",
        "            if(mxx > mx):\n",
        "                mx = mxx\n",
        "\n",
        "    print(mx)\n",
        "    # pass#remove this line when you're done with the function\n",
        "\n",
        "#DO NOT CHANGE THE CODE BELOW\n",
        "height = np.array([1,8,6,2,5,4,8,3,7])\n",
        "print(f'Given Array: {height}')\n",
        "\n",
        "print(f'\\nExpected Output: 49')\n",
        "print(f'Your Output: ',end='')\n",
        "mostWater(height)"
      ],
      "metadata": {
        "colab": {
          "base_uri": "https://localhost:8080/"
        },
        "id": "8IhzQF4H3TSu",
        "outputId": "31228140-14c7-4dba-8428-128bb5d84b45"
      },
      "execution_count": null,
      "outputs": [
        {
          "output_type": "stream",
          "name": "stdout",
          "text": [
            "Given Array: [1 8 6 2 5 4 8 3 7]\n",
            "\n",
            "Expected Output: 49\n",
            "Your Output: 49\n"
          ]
        }
      ]
    },
    {
      "cell_type": "markdown",
      "source": [
        "### **Assignment Task 2:** Row Rotation Policy (submit only the function)"
      ],
      "metadata": {
        "id": "VWN3yZrq2qp_"
      }
    },
    {
      "cell_type": "code",
      "execution_count": null,
      "metadata": {
        "id": "SzBe-ByVmV8G",
        "colab": {
          "base_uri": "https://localhost:8080/"
        },
        "outputId": "9fcd24f1-a816-41cd-8091-ecad2eca4a2d"
      },
      "outputs": [
        {
          "output_type": "stream",
          "name": "stdout",
          "text": [
            "|  A  |  B  |  C  |  D  |  E  |\n",
            "-------------------------------\n",
            "|  F  |  G  |  H  |  I  |  J  |\n",
            "-------------------------------\n",
            "|  K  |  L  |  M  |  N  |  O  |\n",
            "-------------------------------\n",
            "|  P  |  Q  |  R  |  S  |  T  |\n",
            "-------------------------------\n",
            "|  U  |  V  |  W  |  X  |  Y  |\n",
            "-------------------------------\n",
            "|  Z  |  AA |  BB |  CC |  DD |\n",
            "-------------------------------\n",
            "\n",
            "|  U  |  V  |  W  |  X  |  Y  |\n",
            "-------------------------------\n",
            "|  Z  |  AA |  BB |  CC |  DD |\n",
            "-------------------------------\n",
            "|  A  |  B  |  C  |  D  |  E  |\n",
            "-------------------------------\n",
            "|  F  |  G  |  H  |  I  |  J  |\n",
            "-------------------------------\n",
            "|  K  |  L  |  M  |  N  |  O  |\n",
            "-------------------------------\n",
            "|  P  |  Q  |  R  |  S  |  T  |\n",
            "-------------------------------\n",
            "Your friend AA will be on row 2\n"
          ]
        }
      ],
      "source": [
        "# Task 03: Row Rotation Policy of BRACU Classroom\n",
        "def row_rotation(exam_week, seat_status):\n",
        "    matrix = []\n",
        "\n",
        "    for i in range(len(seat_status)):\n",
        "        r = []\n",
        "        for j in range(len(seat_status[0])):\n",
        "            r.append(\"\")\n",
        "        matrix.append(r)\n",
        "\n",
        "        i = 0\n",
        "    while (i < len(seat_status)):\n",
        "        nrow_idx = (i + ((exam_week - 1) % len(seat_status))) % len(seat_status)\n",
        "        j = 0\n",
        "        while (j < len(seat_status[0])):\n",
        "            matrix[nrow_idx][j] = seat_status[i][j]\n",
        "            j += 1\n",
        "        i += 1\n",
        "    i = 0\n",
        "    AA = -1\n",
        "    while (i < len(seat_status)):\n",
        "        j = 0\n",
        "        while (j < len(seat_status[0])):\n",
        "            if (matrix[i][j] == \"AA\"):\n",
        "                AA = i + 1\n",
        "                break\n",
        "            j += 1\n",
        "        if (AA != -1):\n",
        "            break\n",
        "        i += 1\n",
        "\n",
        "    print_matrix(np.array(matrix))\n",
        "    return AA\n",
        "#DO NOT CHANGE THE CODE BELOW\n",
        "seat_status = np.array([[ 'A' , 'B' , 'C' , 'D' , 'E'],\n",
        "                  ['F' , 'G' , 'H' , 'I' , 'J'],\n",
        "                  ['K' , 'L' , 'M' , 'N' , 'O'],\n",
        "                  ['P' , 'Q' , 'R' , 'S' , 'T'],\n",
        "                  ['U' , 'V' , 'W' , 'X' , 'Y'],\n",
        "                  ['Z' , 'AA' , 'BB' , 'CC' , 'DD']])\n",
        "exam_week=3\n",
        "print_matrix(seat_status)\n",
        "print()\n",
        "\n",
        "row_number=row_rotation(exam_week, seat_status) #This should print modified seat status after rotation and return the row number\n",
        "print(f'Your friend AA will be on row {row_number}') #This should print Your friend AA will be on row 2"
      ]
    },
    {
      "cell_type": "markdown",
      "source": [
        "### **Assignment Task 3:** Matrix Compressions (submit only the function)"
      ],
      "metadata": {
        "id": "hpUStQET26U7"
      }
    },
    {
      "cell_type": "code",
      "execution_count": null,
      "metadata": {
        "id": "Oi7AXojBEayT",
        "colab": {
          "base_uri": "https://localhost:8080/"
        },
        "outputId": "362993a0-929a-434f-dc81-94550d48e15c"
      },
      "outputs": [
        {
          "output_type": "stream",
          "name": "stdout",
          "text": [
            "|  1  |  2  |  3  |  4  |\n",
            "-------------------------\n",
            "|  5  |  6  |  7  |  8  |\n",
            "-------------------------\n",
            "|  1  |  3  |  5  |  2  |\n",
            "-------------------------\n",
            "|  -2 |  0  |  6  |  -3 |\n",
            "-------------------------\n",
            "\n",
            "..............................\n",
            "\n"
          ]
        }
      ],
      "source": [
        "def compress_matrix(mat):\n",
        "  pass\n",
        "\n",
        "#DO NOT CHANGE THE CODE BELOW\n",
        "matrix=np.array([[1,2,3,4],\n",
        "                 [5,6,7,8],\n",
        "                 [1,3,5,2],\n",
        "                 [-2,0,6,-3]\n",
        "                 ])\n",
        "print_matrix(matrix)\n",
        "print(\"\\n..............................\\n\")\n",
        "returned_array=compress_matrix(matrix)\n",
        "print_matrix(returned_array)\n",
        "#This should print\n",
        "\n",
        "#|  14  |  22 |\n",
        "#--------------\n",
        "#|  2  |  10  |\n",
        "#--------------"
      ]
    },
    {
      "cell_type": "markdown",
      "source": [
        "### **Assignment Task 4:** Game Arena (submit only the function)"
      ],
      "metadata": {
        "id": "_fW0NQN53Baj"
      }
    },
    {
      "cell_type": "code",
      "execution_count": null,
      "metadata": {
        "id": "sTJ7GNezm6uu",
        "colab": {
          "base_uri": "https://localhost:8080/"
        },
        "outputId": "0c5c8981-3082-4e04-88a3-39f611b742ae"
      },
      "outputs": [
        {
          "output_type": "stream",
          "name": "stdout",
          "text": [
            "|  0  |  2  |  2  |  0  |\n",
            "-------------------------\n",
            "|  50 |  1  |  2  |  0  |\n",
            "-------------------------\n",
            "|  2  |  2  |  2  |  0  |\n",
            "-------------------------\n",
            "|  1  |  100 |  2  |  0  |\n",
            "-------------------------\n",
            "\n",
            "..............................\n",
            "\n",
            "|  0  |  2  |  2  |  0  |  2  |\n",
            "-------------------------------\n",
            "|  1  |  50 |  2  |  1  |  100 |\n",
            "-------------------------------\n",
            "|  2  |  2  |  2  |  0  |  2  |\n",
            "-------------------------------\n",
            "|  0  |  200 |  2  |  0  |  0  |\n",
            "-------------------------------\n"
          ]
        }
      ],
      "source": [
        "def play_game(arena):\n",
        "  pass#remove this line when you're done with the function\n",
        "\n",
        "\n",
        "#DO NOT CHANGE THE CODE BELOW\n",
        "arena=np.array([[0,2,2,0],\n",
        "                [50,1,2,0],\n",
        "                [2,2,2,0],\n",
        "                [1,100,2,0]\n",
        "                ])\n",
        "print_matrix(arena)\n",
        "play_game(arena)\n",
        "#This should print\n",
        "#Points Gained: 6. Your team is out.\n",
        "print(\"\\n..............................\\n\")\n",
        "arena=np.array([[0,2,2,0,2],\n",
        "                [1,50,2,1,100],\n",
        "                [2,2,2,0,2],\n",
        "                [0,200,2,0,0]\n",
        "                ])\n",
        "print_matrix(arena)\n",
        "play_game(arena)\n",
        "#This should print\n",
        "#Points Gained: 14. Your team has survived the game."
      ]
    }
  ],
  "metadata": {
    "colab": {
      "provenance": [],
      "include_colab_link": true
    },
    "kernelspec": {
      "display_name": "Python 3",
      "name": "python3"
    },
    "language_info": {
      "name": "python"
    }
  },
  "nbformat": 4,
  "nbformat_minor": 0
}